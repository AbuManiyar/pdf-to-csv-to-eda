{
 "cells": [
  {
   "cell_type": "code",
   "execution_count": 1,
   "id": "2461f02f-88e7-4cd6-ad99-ecf6de93b50a",
   "metadata": {},
   "outputs": [],
   "source": [
    "import pandas as pd\n",
    "import matplotlib.pyplot as plt"
   ]
  },
  {
   "cell_type": "code",
   "execution_count": 2,
   "id": "3428e36d-8d3b-4141-82ee-751568897f12",
   "metadata": {},
   "outputs": [],
   "source": [
    "df = pd.read_csv('bankdata.csv')"
   ]
  },
  {
   "cell_type": "markdown",
   "id": "e9b8ba56-1cce-4add-b554-4ef3c12196c3",
   "metadata": {},
   "source": [
    "# Basic Overview "
   ]
  },
  {
   "cell_type": "code",
   "execution_count": 3,
   "id": "73c5b739-a017-4607-895b-daf999f2f035",
   "metadata": {},
   "outputs": [
    {
     "data": {
      "text/html": [
       "<div>\n",
       "<style scoped>\n",
       "    .dataframe tbody tr th:only-of-type {\n",
       "        vertical-align: middle;\n",
       "    }\n",
       "\n",
       "    .dataframe tbody tr th {\n",
       "        vertical-align: top;\n",
       "    }\n",
       "\n",
       "    .dataframe thead th {\n",
       "        text-align: right;\n",
       "    }\n",
       "</style>\n",
       "<table border=\"1\" class=\"dataframe\">\n",
       "  <thead>\n",
       "    <tr style=\"text-align: right;\">\n",
       "      <th></th>\n",
       "      <th>amount</th>\n",
       "      <th>balance</th>\n",
       "    </tr>\n",
       "  </thead>\n",
       "  <tbody>\n",
       "    <tr>\n",
       "      <th>count</th>\n",
       "      <td>509.000000</td>\n",
       "      <td>509.000000</td>\n",
       "    </tr>\n",
       "    <tr>\n",
       "      <th>mean</th>\n",
       "      <td>8736.453006</td>\n",
       "      <td>115873.671493</td>\n",
       "    </tr>\n",
       "    <tr>\n",
       "      <th>std</th>\n",
       "      <td>27181.105774</td>\n",
       "      <td>136850.421744</td>\n",
       "    </tr>\n",
       "    <tr>\n",
       "      <th>min</th>\n",
       "      <td>1.000000</td>\n",
       "      <td>0.130000</td>\n",
       "    </tr>\n",
       "    <tr>\n",
       "      <th>25%</th>\n",
       "      <td>400.000000</td>\n",
       "      <td>35345.130000</td>\n",
       "    </tr>\n",
       "    <tr>\n",
       "      <th>50%</th>\n",
       "      <td>1120.000000</td>\n",
       "      <td>56645.670000</td>\n",
       "    </tr>\n",
       "    <tr>\n",
       "      <th>75%</th>\n",
       "      <td>7000.000000</td>\n",
       "      <td>121341.470000</td>\n",
       "    </tr>\n",
       "    <tr>\n",
       "      <th>max</th>\n",
       "      <td>360000.000000</td>\n",
       "      <td>473292.870000</td>\n",
       "    </tr>\n",
       "  </tbody>\n",
       "</table>\n",
       "</div>"
      ],
      "text/plain": [
       "              amount        balance\n",
       "count     509.000000     509.000000\n",
       "mean     8736.453006  115873.671493\n",
       "std     27181.105774  136850.421744\n",
       "min         1.000000       0.130000\n",
       "25%       400.000000   35345.130000\n",
       "50%      1120.000000   56645.670000\n",
       "75%      7000.000000  121341.470000\n",
       "max    360000.000000  473292.870000"
      ]
     },
     "execution_count": 3,
     "metadata": {},
     "output_type": "execute_result"
    }
   ],
   "source": [
    "df.describe()"
   ]
  },
  {
   "cell_type": "code",
   "execution_count": 4,
   "id": "fe4e6a43-483c-4867-a5a4-9c0d5ed08407",
   "metadata": {},
   "outputs": [
    {
     "data": {
      "text/plain": [
       "Index(['date', 'DrCr', 'amount', 'balance', 'mode', 'name'], dtype='object')"
      ]
     },
     "execution_count": 4,
     "metadata": {},
     "output_type": "execute_result"
    }
   ],
   "source": [
    "df.columns"
   ]
  },
  {
   "cell_type": "code",
   "execution_count": 5,
   "id": "a11354f9-8aeb-4477-a497-79a309f3fb1f",
   "metadata": {},
   "outputs": [],
   "source": [
    "categorical_columns = []\n",
    "numerical_columns = []\n",
    "for i in df.columns:\n",
    "    if df[i].dtype == 'object':\n",
    "        categorical_columns.append(i)\n",
    "    else: numerical_columns.append(i) "
   ]
  },
  {
   "cell_type": "code",
   "execution_count": 6,
   "id": "0837522c-78a0-403f-ab87-952effdc20e4",
   "metadata": {},
   "outputs": [
    {
     "data": {
      "text/plain": [
       "['date', 'DrCr', 'mode', 'name']"
      ]
     },
     "execution_count": 6,
     "metadata": {},
     "output_type": "execute_result"
    }
   ],
   "source": [
    "categorical_columns"
   ]
  },
  {
   "cell_type": "markdown",
   "id": "4ede912f-9a58-4198-8091-564ad8cfa507",
   "metadata": {},
   "source": [
    "# Univariate Analysis"
   ]
  },
  {
   "cell_type": "markdown",
   "id": "58198be9-bc08-4892-b7d6-343304c833b2",
   "metadata": {},
   "source": [
    "##### 1. Categoriacal"
   ]
  },
  {
   "cell_type": "code",
   "execution_count": 7,
   "id": "f17885a5-4881-4c00-a112-3b39b899d781",
   "metadata": {},
   "outputs": [
    {
     "data": {
      "text/html": [
       "<div>\n",
       "<style scoped>\n",
       "    .dataframe tbody tr th:only-of-type {\n",
       "        vertical-align: middle;\n",
       "    }\n",
       "\n",
       "    .dataframe tbody tr th {\n",
       "        vertical-align: top;\n",
       "    }\n",
       "\n",
       "    .dataframe thead th {\n",
       "        text-align: right;\n",
       "    }\n",
       "</style>\n",
       "<table border=\"1\" class=\"dataframe\">\n",
       "  <thead>\n",
       "    <tr style=\"text-align: right;\">\n",
       "      <th></th>\n",
       "      <th>date</th>\n",
       "      <th>DrCr</th>\n",
       "      <th>mode</th>\n",
       "      <th>name</th>\n",
       "    </tr>\n",
       "  </thead>\n",
       "  <tbody>\n",
       "    <tr>\n",
       "      <th>0</th>\n",
       "      <td>01-01-2022</td>\n",
       "      <td>Db</td>\n",
       "      <td>ATM</td>\n",
       "      <td>NaN</td>\n",
       "    </tr>\n",
       "    <tr>\n",
       "      <th>1</th>\n",
       "      <td>01-01-2022</td>\n",
       "      <td>Db</td>\n",
       "      <td>ATM</td>\n",
       "      <td>NaN</td>\n",
       "    </tr>\n",
       "  </tbody>\n",
       "</table>\n",
       "</div>"
      ],
      "text/plain": [
       "         date DrCr mode name\n",
       "0  01-01-2022   Db  ATM  NaN\n",
       "1  01-01-2022   Db  ATM  NaN"
      ]
     },
     "execution_count": 7,
     "metadata": {},
     "output_type": "execute_result"
    }
   ],
   "source": [
    "df[categorical_columns].head(2)"
   ]
  },
  {
   "cell_type": "markdown",
   "id": "ab4ae765-dd49-41d9-9b0c-22d1eb726484",
   "metadata": {},
   "source": [
    "Number of days active (days transaction happens)"
   ]
  },
  {
   "cell_type": "code",
   "execution_count": 8,
   "id": "0e7b9718-2629-4584-9f2c-f6ff113be6b1",
   "metadata": {},
   "outputs": [
    {
     "data": {
      "text/plain": [
       "333"
      ]
     },
     "execution_count": 8,
     "metadata": {},
     "output_type": "execute_result"
    }
   ],
   "source": [
    "646 - len(df['date'].value_counts()) #total days of 2022 & 2023 - number of unique dates"
   ]
  },
  {
   "cell_type": "markdown",
   "id": "323514e0-c55a-4df2-bed3-b9f6036b4921",
   "metadata": {},
   "source": [
    "Dates on which maximum transactions happened"
   ]
  },
  {
   "cell_type": "code",
   "execution_count": 9,
   "id": "2eb8b5ec-c11b-43b8-8564-0e1c3122dc2e",
   "metadata": {},
   "outputs": [
    {
     "data": {
      "text/plain": [
       "21-02-2022    5\n",
       "10-01-2022    5\n",
       "12-01-2022    5\n",
       "17-01-2023    5\n",
       "31-01-2023    5\n",
       "25-09-2023    5\n",
       "Name: date, dtype: int64"
      ]
     },
     "execution_count": 9,
     "metadata": {},
     "output_type": "execute_result"
    }
   ],
   "source": [
    "df['date'].value_counts()[df['date'].value_counts().max() == df['date'].value_counts()]"
   ]
  },
  {
   "cell_type": "markdown",
   "id": "6f464a19-f9a3-463a-931e-cb84cacab57c",
   "metadata": {},
   "source": [
    "3. Adding Day, Month and Year"
   ]
  },
  {
   "cell_type": "code",
   "execution_count": 10,
   "id": "609c326a-d9cd-4b79-9c68-3d7f3464f028",
   "metadata": {},
   "outputs": [],
   "source": [
    "df2 = df.copy()"
   ]
  },
  {
   "cell_type": "code",
   "execution_count": 11,
   "id": "3ac63748-ca23-4948-a074-ccbf1652b50d",
   "metadata": {},
   "outputs": [],
   "source": [
    "day = []\n",
    "month = []\n",
    "year = []\n",
    "for i in range(df2['date'].size):\n",
    "    s = df2['date'].values[i].split('-')\n",
    "    day.append(s[0])\n",
    "    month.append(s[1])\n",
    "    year.append(s[2])"
   ]
  },
  {
   "cell_type": "code",
   "execution_count": 12,
   "id": "ff20e15c-53a4-422f-a2a4-eca537514ca6",
   "metadata": {},
   "outputs": [],
   "source": [
    "df['Day'] = day\n",
    "df['Month'] = month\n",
    "df['Year'] = year"
   ]
  },
  {
   "cell_type": "code",
   "execution_count": 13,
   "id": "dbc2edb2-4c4b-4b12-bc2e-19d855da036b",
   "metadata": {},
   "outputs": [
    {
     "data": {
      "text/html": [
       "<div>\n",
       "<style scoped>\n",
       "    .dataframe tbody tr th:only-of-type {\n",
       "        vertical-align: middle;\n",
       "    }\n",
       "\n",
       "    .dataframe tbody tr th {\n",
       "        vertical-align: top;\n",
       "    }\n",
       "\n",
       "    .dataframe thead th {\n",
       "        text-align: right;\n",
       "    }\n",
       "</style>\n",
       "<table border=\"1\" class=\"dataframe\">\n",
       "  <thead>\n",
       "    <tr style=\"text-align: right;\">\n",
       "      <th></th>\n",
       "      <th>date</th>\n",
       "      <th>DrCr</th>\n",
       "      <th>amount</th>\n",
       "      <th>balance</th>\n",
       "      <th>mode</th>\n",
       "      <th>name</th>\n",
       "      <th>Day</th>\n",
       "      <th>Month</th>\n",
       "      <th>Year</th>\n",
       "    </tr>\n",
       "  </thead>\n",
       "  <tbody>\n",
       "    <tr>\n",
       "      <th>63</th>\n",
       "      <td>28-03-2022</td>\n",
       "      <td>Db</td>\n",
       "      <td>10000.0</td>\n",
       "      <td>234283.96</td>\n",
       "      <td>ATM</td>\n",
       "      <td>NaN</td>\n",
       "      <td>28</td>\n",
       "      <td>03</td>\n",
       "      <td>2022</td>\n",
       "    </tr>\n",
       "    <tr>\n",
       "      <th>109</th>\n",
       "      <td>13-06-2022</td>\n",
       "      <td>Db</td>\n",
       "      <td>300.0</td>\n",
       "      <td>146901.05</td>\n",
       "      <td>UPI</td>\n",
       "      <td>ADINATHM</td>\n",
       "      <td>13</td>\n",
       "      <td>06</td>\n",
       "      <td>2022</td>\n",
       "    </tr>\n",
       "    <tr>\n",
       "      <th>138</th>\n",
       "      <td>29-07-2022</td>\n",
       "      <td>Db</td>\n",
       "      <td>160000.0</td>\n",
       "      <td>11248.14</td>\n",
       "      <td>CHEQUE</td>\n",
       "      <td>NaN</td>\n",
       "      <td>29</td>\n",
       "      <td>07</td>\n",
       "      <td>2022</td>\n",
       "    </tr>\n",
       "    <tr>\n",
       "      <th>472</th>\n",
       "      <td>08-09-2023</td>\n",
       "      <td>Db</td>\n",
       "      <td>5000.0</td>\n",
       "      <td>42266.58</td>\n",
       "      <td>ATM</td>\n",
       "      <td>NaN</td>\n",
       "      <td>08</td>\n",
       "      <td>09</td>\n",
       "      <td>2023</td>\n",
       "    </tr>\n",
       "  </tbody>\n",
       "</table>\n",
       "</div>"
      ],
      "text/plain": [
       "           date DrCr    amount    balance    mode      name Day Month  Year\n",
       "63   28-03-2022   Db   10000.0  234283.96     ATM       NaN  28    03  2022\n",
       "109  13-06-2022   Db     300.0  146901.05     UPI  ADINATHM  13    06  2022\n",
       "138  29-07-2022   Db  160000.0   11248.14  CHEQUE       NaN  29    07  2022\n",
       "472  08-09-2023   Db    5000.0   42266.58     ATM       NaN  08    09  2023"
      ]
     },
     "execution_count": 13,
     "metadata": {},
     "output_type": "execute_result"
    }
   ],
   "source": [
    "df.sample(4)"
   ]
  },
  {
   "cell_type": "markdown",
   "id": "75865d9b-47fa-42a4-89a6-2bea6a67c8ec",
   "metadata": {},
   "source": [
    "4. In Which year more transaction are present?"
   ]
  },
  {
   "cell_type": "code",
   "execution_count": 14,
   "id": "613c9478-f181-47c0-b064-88501de6083a",
   "metadata": {},
   "outputs": [
    {
     "data": {
      "text/plain": [
       "2022    260\n",
       "2023    249\n",
       "Name: Year, dtype: int64"
      ]
     },
     "execution_count": 14,
     "metadata": {},
     "output_type": "execute_result"
    }
   ],
   "source": [
    "df['Year'].value_counts()"
   ]
  },
  {
   "cell_type": "markdown",
   "id": "21f1bf14-0491-4c83-8d45-7a30a22f421a",
   "metadata": {},
   "source": [
    "Now take 2nd Category i.e., DrCr"
   ]
  },
  {
   "cell_type": "markdown",
   "id": "7db75671-2f28-4039-aeb5-dc3a8324c9a2",
   "metadata": {},
   "source": [
    "1. Percent of debit and credit"
   ]
  },
  {
   "cell_type": "code",
   "execution_count": 15,
   "id": "95431919-fec0-4728-a868-fa34b091ea8c",
   "metadata": {},
   "outputs": [
    {
     "data": {
      "text/plain": [
       "Db    73.280943\n",
       "Cr    26.719057\n",
       "Name: DrCr, dtype: float64"
      ]
     },
     "execution_count": 15,
     "metadata": {},
     "output_type": "execute_result"
    }
   ],
   "source": [
    "df['DrCr'].value_counts()/df['DrCr'].value_counts().sum() * 100"
   ]
  },
  {
   "cell_type": "markdown",
   "id": "1dd9ec94-483e-4af6-8bd5-e14241e78855",
   "metadata": {},
   "source": [
    "2. Plot Graph of above observings"
   ]
  },
  {
   "cell_type": "code",
   "execution_count": 16,
   "id": "8e6615c6-9f90-404c-8711-2c0cedaa0de6",
   "metadata": {},
   "outputs": [
    {
     "data": {
      "text/plain": [
       "<Axes: ylabel='DrCr'>"
      ]
     },
     "execution_count": 16,
     "metadata": {},
     "output_type": "execute_result"
    },
    {
     "data": {
      "image/png": "[encoded data removed]",
      "text/plain": [
       "<Figure size 300x300 with 1 Axes>"
      ]
     },
     "metadata": {},
     "output_type": "display_data"
    }
   ],
   "source": [
    "df['DrCr'].value_counts().plot(kind='pie',figsize=(3,3))"
   ]
  },
  {
   "cell_type": "markdown",
   "id": "529ceede-7e76-43ad-9bd0-b7cbe00bdd5d",
   "metadata": {},
   "source": [
    "**Conclusion:** Out of 4 trnasactions 1 may be credit remaining 3(debits)"
   ]
  },
  {
   "cell_type": "markdown",
   "id": "680691dc-c125-4bd6-b936-8585ef8dbeae",
   "metadata": {},
   "source": [
    "Now 3rd Category i.e., Mode"
   ]
  },
  {
   "cell_type": "markdown",
   "id": "a49875f6-9274-4508-96be-366fb351e956",
   "metadata": {},
   "source": [
    "1. How Many ATM transactions are present?"
   ]
  },
  {
   "cell_type": "code",
   "execution_count": 17,
   "id": "4e8f6018-11ae-436d-824d-ba22c15cf9a0",
   "metadata": {},
   "outputs": [
    {
     "data": {
      "text/plain": [
       "49"
      ]
     },
     "execution_count": 17,
     "metadata": {},
     "output_type": "execute_result"
    }
   ],
   "source": [
    "(df['mode']=='ATM').sum()"
   ]
  },
  {
   "cell_type": "markdown",
   "id": "95b93c73-66b0-4239-b2db-c7063f0c9847",
   "metadata": {},
   "source": [
    "2. Percentages of UPI transactions?\n",
    "   **a.** Overall and\n",
    "   **b.** UPI vs ATM "
   ]
  },
  {
   "cell_type": "code",
   "execution_count": 18,
   "id": "4c047191-d0d9-4e7a-894b-61cdb1727131",
   "metadata": {},
   "outputs": [
    {
     "data": {
      "text/plain": [
       "72.69155206286837"
      ]
     },
     "execution_count": 18,
     "metadata": {},
     "output_type": "execute_result"
    }
   ],
   "source": [
    "df['mode'].value_counts()['UPI']/df['mode'].value_counts().sum() * 100"
   ]
  },
  {
   "cell_type": "code",
   "execution_count": 19,
   "id": "af023bac-7000-423a-acbc-025fd8c0e2d4",
   "metadata": {},
   "outputs": [
    {
     "data": {
      "text/plain": [
       "88.3054892601432"
      ]
     },
     "execution_count": 19,
     "metadata": {},
     "output_type": "execute_result"
    }
   ],
   "source": [
    "df['mode'].value_counts()['UPI'] / (df['mode'].value_counts()['UPI'] + df['mode'].value_counts()['ATM']) * 100"
   ]
  },
  {
   "cell_type": "markdown",
   "id": "50de9c1b-efb5-4f69-8610-39c85c3ff478",
   "metadata": {},
   "source": [
    "Now 4th Category i.e., Name"
   ]
  },
  {
   "cell_type": "markdown",
   "id": "30372d8c-ae93-4426-a6c5-d336806aa639",
   "metadata": {},
   "source": [
    "1. Name most frequent person ?"
   ]
  },
  {
   "cell_type": "code",
   "execution_count": 20,
   "id": "6ce6a1b2-23b2-44f4-bbde-34160a15d8c7",
   "metadata": {},
   "outputs": [
    {
     "data": {
      "text/plain": [
       "'ABUTALAH'"
      ]
     },
     "execution_count": 20,
     "metadata": {},
     "output_type": "execute_result"
    }
   ],
   "source": [
    "df['name'].value_counts().index[0]"
   ]
  },
  {
   "cell_type": "markdown",
   "id": "25f8af2e-5f1d-455c-909f-833ca0c53241",
   "metadata": {},
   "source": [
    "2. plot graph of top 5 names."
   ]
  },
  {
   "cell_type": "code",
   "execution_count": 22,
   "id": "7f4f8b61-7d2b-4940-a370-b50908ea7f1f",
   "metadata": {},
   "outputs": [
    {
     "data": {
      "text/plain": [
       "<Axes: >"
      ]
     },
     "execution_count": 22,
     "metadata": {},
     "output_type": "execute_result"
    },
    {
     "data": {
      "image/png": "[encoded data removed]",
      "text/plain": [
       "<Figure size 500x300 with 1 Axes>"
      ]
     },
     "metadata": {},
     "output_type": "display_data"
    }
   ],
   "source": [
    "df['name'].value_counts()[:6].plot(kind='bar', figsize=(5,3))"
   ]
  },
  {
   "cell_type": "markdown",
   "id": "64b5adb8-841e-4668-b9fc-09b89f65c330",
   "metadata": {},
   "source": [
    "#### Numerical colums"
   ]
  },
  {
   "cell_type": "markdown",
   "id": "7973afbd-ebd1-4a9d-b476-44a62b2dc6c5",
   "metadata": {},
   "source": [
    "Analysis corresponding to Column-amount"
   ]
  },
  {
   "cell_type": "markdown",
   "id": "157c3efe-50bf-4042-a9de-9ca4ae6d10d4",
   "metadata": {},
   "source": [
    "1. Plot a line chart to get overview across time."
   ]
  },
  {
   "cell_type": "code",
   "execution_count": 33,
   "id": "fe561b8a-90ca-493c-b096-c6118d0bde0e",
   "metadata": {},
   "outputs": [
    {
     "data": {
      "text/plain": [
       "<Axes: >"
      ]
     },
     "execution_count": 33,
     "metadata": {},
     "output_type": "execute_result"
    },
    {
     "data": {
      "image/png": "[encoded data removed]",
      "text/plain": [
       "<Figure size 700x300 with 1 Axes>"
      ]
     },
     "metadata": {},
     "output_type": "display_data"
    }
   ],
   "source": [
    "df['amount'].plot(figsize=(7,3))"
   ]
  },
  {
   "cell_type": "markdown",
   "id": "fee2c3dd-1eb4-47ff-ab70-759bbd0b961f",
   "metadata": {},
   "source": [
    "2. Plot a histogram on it"
   ]
  },
  {
   "cell_type": "code",
   "execution_count": 46,
   "id": "cc1a5e02-648f-4f8f-a705-33c2f33fb553",
   "metadata": {},
   "outputs": [
    {
     "data": {
      "text/plain": [
       "<Axes: ylabel='Frequency'>"
      ]
     },
     "execution_count": 46,
     "metadata": {},
     "output_type": "execute_result"
    },
    {
     "data": {
      "image/png": "[encoded data removed]",
      "text/plain": [
       "<Figure size 700x300 with 1 Axes>"
      ]
     },
     "metadata": {},
     "output_type": "display_data"
    }
   ],
   "source": [
    "df['amount'].plot(kind='hist', figsize=(7,3), bins=20)"
   ]
  },
  {
   "cell_type": "markdown",
   "id": "3e778ae2-846c-4282-ab17-1bb706e2b9b7",
   "metadata": {},
   "source": [
    "As we can see from line chart and histogram the outliers are present"
   ]
  },
  {
   "cell_type": "markdown",
   "id": "56aacfe0-07b1-412f-8fdf-b562aae9a893",
   "metadata": {},
   "source": [
    "There may be 5 outliers in data "
   ]
  },
  {
   "cell_type": "markdown",
   "id": "27be5c78-f021-4b02-beb3-8f69ef7c90db",
   "metadata": {},
   "source": [
    "3. Remove extreme ouliers from copy df2 and check distribution"
   ]
  },
  {
   "cell_type": "code",
   "execution_count": 71,
   "id": "b33de6cf-a507-4989-a32f-7bdcaf8bf78a",
   "metadata": {},
   "outputs": [
    {
     "data": {
      "text/plain": [
       "<Axes: >"
      ]
     },
     "execution_count": 71,
     "metadata": {},
     "output_type": "execute_result"
    },
    {
     "data": {
      "image/png": "[encoded data removed]",
      "text/plain": [
       "<Figure size 640x480 with 1 Axes>"
      ]
     },
     "metadata": {},
     "output_type": "display_data"
    }
   ],
   "source": [
    "df['amount'].plot(kind='box')"
   ]
  },
  {
   "cell_type": "markdown",
   "id": "23e579f6-65bf-4f20-8eda-d8e14c22e41e",
   "metadata": {},
   "source": [
    "There seem 4 extreme outliers greater than 100000"
   ]
  },
  {
   "cell_type": "code",
   "execution_count": 76,
   "id": "5e804050-7b2e-43e6-a07d-3f1a6548accd",
   "metadata": {},
   "outputs": [
    {
     "data": {
      "text/plain": [
       "504"
      ]
     },
     "execution_count": 76,
     "metadata": {},
     "output_type": "execute_result"
    }
   ],
   "source": [
    "(df2['amount']<=100000).sum()"
   ]
  },
  {
   "cell_type": "markdown",
   "id": "3a1064f6-a0d5-4d59-b2f6-60d510be987f",
   "metadata": {},
   "source": [
    "And there! are 5 may be overlaping points on box plot "
   ]
  },
  {
   "cell_type": "code",
   "execution_count": 78,
   "id": "802113d5-2572-45d9-af6d-fa4a20275937",
   "metadata": {},
   "outputs": [
    {
     "data": {
      "text/plain": [
       "<Axes: ylabel='Frequency'>"
      ]
     },
     "execution_count": 78,
     "metadata": {},
     "output_type": "execute_result"
    },
    {
     "data": {
      "image/png": "[encoded data removed]",
      "text/plain": [
       "<Figure size 640x480 with 1 Axes>"
      ]
     },
     "metadata": {},
     "output_type": "display_data"
    }
   ],
   "source": [
    "df2['amount'][df2['amount']<=100000].plot(kind='hist')"
   ]
  },
  {
   "cell_type": "markdown",
   "id": "f95e1df3-8b83-4da6-8c8d-1a8cc93fa6d6",
   "metadata": {},
   "source": [
    "4. Remove 7 from above distribution percentile data and plot."
   ]
  },
  {
   "cell_type": "code",
   "execution_count": 80,
   "id": "6bfd4724-60b4-459d-89ef-a666228aaea7",
   "metadata": {},
   "outputs": [],
   "source": [
    "df3 = df2['amount'][df2['amount']<=100000].copy()"
   ]
  },
  {
   "cell_type": "code",
   "execution_count": 105,
   "id": "c18e48ec-02a1-4b6e-846f-eba6fa174ba9",
   "metadata": {},
   "outputs": [
    {
     "data": {
      "text/plain": [
       "<Axes: ylabel='Frequency'>"
      ]
     },
     "execution_count": 105,
     "metadata": {},
     "output_type": "execute_result"
    },
    {
     "data": {
      "image/png": "[encoded data removed]",
      "text/plain": [
       "<Figure size 640x480 with 1 Axes>"
      ]
     },
     "metadata": {},
     "output_type": "display_data"
    }
   ],
   "source": [
    "df3[df3<df3.quantile(0.93)].plot(kind='hist')"
   ]
  },
  {
   "cell_type": "markdown",
   "id": "a0451282-840c-4b60-b5df-9f3c3e7de503",
   "metadata": {},
   "source": [
    "**Conclusion:** Its following Pareto distribution"
   ]
  },
  {
   "cell_type": "markdown",
   "id": "8cce828d-c92e-4078-ac19-c690b12ca5ee",
   "metadata": {},
   "source": [
    "Let's find what percent of data lies below 2500"
   ]
  },
  {
   "cell_type": "code",
   "execution_count": 130,
   "id": "f8ab6e0b-120a-44d0-9dd1-68f3a5d5761b",
   "metadata": {},
   "outputs": [
    {
     "data": {
      "text/plain": [
       "319"
      ]
     },
     "execution_count": 130,
     "metadata": {},
     "output_type": "execute_result"
    }
   ],
   "source": [
    "df3[df3<df3.quantile(0.93)][df3[df3<df3.quantile(0.93)]<2500].size"
   ]
  },
  {
   "cell_type": "code",
   "execution_count": 134,
   "id": "2ecc48ae-0827-4a76-bb31-81b299ca162c",
   "metadata": {},
   "outputs": [
    {
     "data": {
      "text/plain": [
       "456"
      ]
     },
     "execution_count": 134,
     "metadata": {},
     "output_type": "execute_result"
    }
   ],
   "source": [
    "df3[df3<df3.quantile(0.93)].size"
   ]
  },
  {
   "cell_type": "code",
   "execution_count": 137,
   "id": "796d2010-c209-473f-bc66-866362ef8292",
   "metadata": {},
   "outputs": [
    {
     "data": {
      "text/plain": [
       "70"
      ]
     },
     "execution_count": 137,
     "metadata": {},
     "output_type": "execute_result"
    }
   ],
   "source": [
    "round(319/456 * 100)"
   ]
  },
  {
   "cell_type": "markdown",
   "id": "aba9c87c-b7df-434c-9ddb-c51a9eff8ac9",
   "metadata": {},
   "source": [
    "Its foloowing 70-30 rule"
   ]
  },
  {
   "cell_type": "markdown",
   "id": "4f0e4d25-c625-412c-95f2-4d25652dd35f",
   "metadata": {},
   "source": [
    "# Bivariate Analysis"
   ]
  },
  {
   "cell_type": "code",
   "execution_count": null,
   "id": "c544c2ee-44e8-4e96-b11f-8030f4806b73",
   "metadata": {},
   "outputs": [],
   "source": []
  },
  {
   "cell_type": "code",
   "execution_count": null,
   "id": "4c77c78c-6c56-4687-9ab6-48c9542f1c55",
   "metadata": {},
   "outputs": [],
   "source": []
  },
  {
   "cell_type": "code",
   "execution_count": null,
   "id": "43b93a2a-b209-43be-bf90-b094e6015239",
   "metadata": {},
   "outputs": [],
   "source": []
  }
 ],
 "metadata": {
  "kernelspec": {
   "display_name": "Python 3 (ipykernel)",
   "language": "python",
   "name": "python3"
  },
  "language_info": {
   "codemirror_mode": {
    "name": "ipython",
    "version": 3
   },
   "file_extension": ".py",
   "mimetype": "text/x-python",
   "name": "python",
   "nbconvert_exporter": "python",
   "pygments_lexer": "ipython3",
   "version": "3.8.17"
  }
 },
 "nbformat": 4,
 "nbformat_minor": 5
}
