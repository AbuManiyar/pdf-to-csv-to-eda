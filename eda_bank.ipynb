{
 "cells": [
  {
   "cell_type": "code",
   "execution_count": 1,
   "id": "2461f02f-88e7-4cd6-ad99-ecf6de93b50a",
   "metadata": {},
   "outputs": [],
   "source": [
    "import pandas as pd\n",
    "import matplotlib.pyplot as plt"
   ]
  },
  {
   "cell_type": "code",
   "execution_count": 2,
   "id": "3428e36d-8d3b-4141-82ee-751568897f12",
   "metadata": {},
   "outputs": [],
   "source": [
    "df = pd.read_csv('bankdata.csv')"
   ]
  },
  {
   "cell_type": "markdown",
   "id": "e9b8ba56-1cce-4add-b554-4ef3c12196c3",
   "metadata": {},
   "source": [
    "# Basic Overview "
   ]
  },
  {
   "cell_type": "code",
   "execution_count": 3,
   "id": "73c5b739-a017-4607-895b-daf999f2f035",
   "metadata": {},
   "outputs": [
    {
     "data": {
      "text/html": [
       "<div>\n",
       "<style scoped>\n",
       "    .dataframe tbody tr th:only-of-type {\n",
       "        vertical-align: middle;\n",
       "    }\n",
       "\n",
       "    .dataframe tbody tr th {\n",
       "        vertical-align: top;\n",
       "    }\n",
       "\n",
       "    .dataframe thead th {\n",
       "        text-align: right;\n",
       "    }\n",
       "</style>\n",
       "<table border=\"1\" class=\"dataframe\">\n",
       "  <thead>\n",
       "    <tr style=\"text-align: right;\">\n",
       "      <th></th>\n",
       "      <th>amount</th>\n",
       "      <th>balance</th>\n",
       "    </tr>\n",
       "  </thead>\n",
       "  <tbody>\n",
       "    <tr>\n",
       "      <th>count</th>\n",
       "      <td>509.000000</td>\n",
       "      <td>509.000000</td>\n",
       "    </tr>\n",
       "    <tr>\n",
       "      <th>mean</th>\n",
       "      <td>8736.453006</td>\n",
       "      <td>115873.671493</td>\n",
       "    </tr>\n",
       "    <tr>\n",
       "      <th>std</th>\n",
       "      <td>27181.105774</td>\n",
       "      <td>136850.421744</td>\n",
       "    </tr>\n",
       "    <tr>\n",
       "      <th>min</th>\n",
       "      <td>1.000000</td>\n",
       "      <td>0.130000</td>\n",
       "    </tr>\n",
       "    <tr>\n",
       "      <th>25%</th>\n",
       "      <td>400.000000</td>\n",
       "      <td>35345.130000</td>\n",
       "    </tr>\n",
       "    <tr>\n",
       "      <th>50%</th>\n",
       "      <td>1120.000000</td>\n",
       "      <td>56645.670000</td>\n",
       "    </tr>\n",
       "    <tr>\n",
       "      <th>75%</th>\n",
       "      <td>7000.000000</td>\n",
       "      <td>121341.470000</td>\n",
       "    </tr>\n",
       "    <tr>\n",
       "      <th>max</th>\n",
       "      <td>360000.000000</td>\n",
       "      <td>473292.870000</td>\n",
       "    </tr>\n",
       "  </tbody>\n",
       "</table>\n",
       "</div>"
      ],
      "text/plain": [
       "              amount        balance\n",
       "count     509.000000     509.000000\n",
       "mean     8736.453006  115873.671493\n",
       "std     27181.105774  136850.421744\n",
       "min         1.000000       0.130000\n",
       "25%       400.000000   35345.130000\n",
       "50%      1120.000000   56645.670000\n",
       "75%      7000.000000  121341.470000\n",
       "max    360000.000000  473292.870000"
      ]
     },
     "execution_count": 3,
     "metadata": {},
     "output_type": "execute_result"
    }
   ],
   "source": [
    "df.describe()"
   ]
  },
  {
   "cell_type": "code",
   "execution_count": 4,
   "id": "fe4e6a43-483c-4867-a5a4-9c0d5ed08407",
   "metadata": {},
   "outputs": [
    {
     "data": {
      "text/plain": [
       "Index(['date', 'DrCr', 'amount', 'balance', 'mode', 'name'], dtype='object')"
      ]
     },
     "execution_count": 4,
     "metadata": {},
     "output_type": "execute_result"
    }
   ],
   "source": [
    "df.columns"
   ]
  },
  {
   "cell_type": "code",
   "execution_count": 5,
   "id": "a11354f9-8aeb-4477-a497-79a309f3fb1f",
   "metadata": {},
   "outputs": [],
   "source": [
    "categorical_columns = []\n",
    "numerical_columns = []\n",
    "for i in df.columns:\n",
    "    if df[i].dtype == 'object':\n",
    "        categorical_columns.append(i)\n",
    "    else: numerical_columns.append(i) "
   ]
  },
  {
   "cell_type": "code",
   "execution_count": 6,
   "id": "0837522c-78a0-403f-ab87-952effdc20e4",
   "metadata": {},
   "outputs": [
    {
     "data": {
      "text/plain": [
       "['date', 'DrCr', 'mode', 'name']"
      ]
     },
     "execution_count": 6,
     "metadata": {},
     "output_type": "execute_result"
    }
   ],
   "source": [
    "categorical_columns"
   ]
  },
  {
   "cell_type": "markdown",
   "id": "4ede912f-9a58-4198-8091-564ad8cfa507",
   "metadata": {},
   "source": [
    "# Univariate Analysis"
   ]
  },
  {
   "cell_type": "markdown",
   "id": "58198be9-bc08-4892-b7d6-343304c833b2",
   "metadata": {},
   "source": [
    "##### 1. Categoriacal"
   ]
  },
  {
   "cell_type": "code",
   "execution_count": 7,
   "id": "f17885a5-4881-4c00-a112-3b39b899d781",
   "metadata": {},
   "outputs": [
    {
     "data": {
      "text/html": [
       "<div>\n",
       "<style scoped>\n",
       "    .dataframe tbody tr th:only-of-type {\n",
       "        vertical-align: middle;\n",
       "    }\n",
       "\n",
       "    .dataframe tbody tr th {\n",
       "        vertical-align: top;\n",
       "    }\n",
       "\n",
       "    .dataframe thead th {\n",
       "        text-align: right;\n",
       "    }\n",
       "</style>\n",
       "<table border=\"1\" class=\"dataframe\">\n",
       "  <thead>\n",
       "    <tr style=\"text-align: right;\">\n",
       "      <th></th>\n",
       "      <th>date</th>\n",
       "      <th>DrCr</th>\n",
       "      <th>mode</th>\n",
       "      <th>name</th>\n",
       "    </tr>\n",
       "  </thead>\n",
       "  <tbody>\n",
       "    <tr>\n",
       "      <th>0</th>\n",
       "      <td>01-01-2022</td>\n",
       "      <td>Db</td>\n",
       "      <td>ATM</td>\n",
       "      <td>NaN</td>\n",
       "    </tr>\n",
       "    <tr>\n",
       "      <th>1</th>\n",
       "      <td>01-01-2022</td>\n",
       "      <td>Db</td>\n",
       "      <td>ATM</td>\n",
       "      <td>NaN</td>\n",
       "    </tr>\n",
       "  </tbody>\n",
       "</table>\n",
       "</div>"
      ],
      "text/plain": [
       "         date DrCr mode name\n",
       "0  01-01-2022   Db  ATM  NaN\n",
       "1  01-01-2022   Db  ATM  NaN"
      ]
     },
     "execution_count": 7,
     "metadata": {},
     "output_type": "execute_result"
    }
   ],
   "source": [
    "df[categorical_columns].head(2)"
   ]
  },
  {
   "cell_type": "markdown",
   "id": "ab4ae765-dd49-41d9-9b0c-22d1eb726484",
   "metadata": {},
   "source": [
    "Number of days inactive (days transaction does not happens)"
   ]
  },
  {
   "cell_type": "code",
   "execution_count": 8,
   "id": "0e7b9718-2629-4584-9f2c-f6ff113be6b1",
   "metadata": {},
   "outputs": [
    {
     "data": {
      "text/plain": [
       "333"
      ]
     },
     "execution_count": 8,
     "metadata": {},
     "output_type": "execute_result"
    }
   ],
   "source": [
    "646 - len(df['date'].value_counts()) #total days of 2022 & 2023 - number of unique dates"
   ]
  },
  {
   "cell_type": "markdown",
   "id": "323514e0-c55a-4df2-bed3-b9f6036b4921",
   "metadata": {},
   "source": [
    "Dates on which maximum transactions happened"
   ]
  },
  {
   "cell_type": "code",
   "execution_count": 9,
   "id": "2eb8b5ec-c11b-43b8-8564-0e1c3122dc2e",
   "metadata": {},
   "outputs": [
    {
     "data": {
      "text/plain": [
       "21-02-2022    5\n",
       "10-01-2022    5\n",
       "12-01-2022    5\n",
       "17-01-2023    5\n",
       "31-01-2023    5\n",
       "25-09-2023    5\n",
       "Name: date, dtype: int64"
      ]
     },
     "execution_count": 9,
     "metadata": {},
     "output_type": "execute_result"
    }
   ],
   "source": [
    "df['date'].value_counts()[df['date'].value_counts().max() == df['date'].value_counts()]"
   ]
  },
  {
   "cell_type": "markdown",
   "id": "6f464a19-f9a3-463a-931e-cb84cacab57c",
   "metadata": {},
   "source": [
    "3. Adding Day, Month and Year"
   ]
  },
  {
   "cell_type": "code",
   "execution_count": 10,
   "id": "609c326a-d9cd-4b79-9c68-3d7f3464f028",
   "metadata": {},
   "outputs": [],
   "source": [
    "df2 = df.copy()"
   ]
  },
  {
   "cell_type": "code",
   "execution_count": 11,
   "id": "3ac63748-ca23-4948-a074-ccbf1652b50d",
   "metadata": {},
   "outputs": [],
   "source": [
    "day = []\n",
    "month = []\n",
    "year = []\n",
    "for i in range(df2['date'].size):\n",
    "    s = df2['date'].values[i].split('-')\n",
    "    day.append(s[0])\n",
    "    month.append(s[1])\n",
    "    year.append(s[2])"
   ]
  },
  {
   "cell_type": "code",
   "execution_count": 12,
   "id": "ff20e15c-53a4-422f-a2a4-eca537514ca6",
   "metadata": {},
   "outputs": [],
   "source": [
    "df['Day'] = day\n",
    "df['Month'] = month\n",
    "df['Year'] = year"
   ]
  },
  {
   "cell_type": "code",
   "execution_count": 13,
   "id": "dbc2edb2-4c4b-4b12-bc2e-19d855da036b",
   "metadata": {},
   "outputs": [
    {
     "data": {
      "text/html": [
       "<div>\n",
       "<style scoped>\n",
       "    .dataframe tbody tr th:only-of-type {\n",
       "        vertical-align: middle;\n",
       "    }\n",
       "\n",
       "    .dataframe tbody tr th {\n",
       "        vertical-align: top;\n",
       "    }\n",
       "\n",
       "    .dataframe thead th {\n",
       "        text-align: right;\n",
       "    }\n",
       "</style>\n",
       "<table border=\"1\" class=\"dataframe\">\n",
       "  <thead>\n",
       "    <tr style=\"text-align: right;\">\n",
       "      <th></th>\n",
       "      <th>date</th>\n",
       "      <th>DrCr</th>\n",
       "      <th>amount</th>\n",
       "      <th>balance</th>\n",
       "      <th>mode</th>\n",
       "      <th>name</th>\n",
       "      <th>Day</th>\n",
       "      <th>Month</th>\n",
       "      <th>Year</th>\n",
       "    </tr>\n",
       "  </thead>\n",
       "  <tbody>\n",
       "    <tr>\n",
       "      <th>1</th>\n",
       "      <td>01-01-2022</td>\n",
       "      <td>Db</td>\n",
       "      <td>10000.0</td>\n",
       "      <td>463292.87</td>\n",
       "      <td>ATM</td>\n",
       "      <td>NaN</td>\n",
       "      <td>01</td>\n",
       "      <td>01</td>\n",
       "      <td>2022</td>\n",
       "    </tr>\n",
       "    <tr>\n",
       "      <th>449</th>\n",
       "      <td>18-08-2023</td>\n",
       "      <td>Cr</td>\n",
       "      <td>12500.0</td>\n",
       "      <td>38164.42</td>\n",
       "      <td>UPI</td>\n",
       "      <td>NAFEESAB</td>\n",
       "      <td>18</td>\n",
       "      <td>08</td>\n",
       "      <td>2023</td>\n",
       "    </tr>\n",
       "    <tr>\n",
       "      <th>306</th>\n",
       "      <td>16-02-2023</td>\n",
       "      <td>Cr</td>\n",
       "      <td>5000.0</td>\n",
       "      <td>35744.13</td>\n",
       "      <td>ATM</td>\n",
       "      <td>NaN</td>\n",
       "      <td>16</td>\n",
       "      <td>02</td>\n",
       "      <td>2023</td>\n",
       "    </tr>\n",
       "    <tr>\n",
       "      <th>218</th>\n",
       "      <td>15-11-2022</td>\n",
       "      <td>Db</td>\n",
       "      <td>6099.0</td>\n",
       "      <td>18482.75</td>\n",
       "      <td>UPI</td>\n",
       "      <td>NANDISHM</td>\n",
       "      <td>15</td>\n",
       "      <td>11</td>\n",
       "      <td>2022</td>\n",
       "    </tr>\n",
       "  </tbody>\n",
       "</table>\n",
       "</div>"
      ],
      "text/plain": [
       "           date DrCr   amount    balance mode      name Day Month  Year\n",
       "1    01-01-2022   Db  10000.0  463292.87  ATM       NaN  01    01  2022\n",
       "449  18-08-2023   Cr  12500.0   38164.42  UPI  NAFEESAB  18    08  2023\n",
       "306  16-02-2023   Cr   5000.0   35744.13  ATM       NaN  16    02  2023\n",
       "218  15-11-2022   Db   6099.0   18482.75  UPI  NANDISHM  15    11  2022"
      ]
     },
     "execution_count": 13,
     "metadata": {},
     "output_type": "execute_result"
    }
   ],
   "source": [
    "df.sample(4)"
   ]
  },
  {
   "cell_type": "markdown",
   "id": "75865d9b-47fa-42a4-89a6-2bea6a67c8ec",
   "metadata": {},
   "source": [
    "4. In Which year more transaction are present?"
   ]
  },
  {
   "cell_type": "code",
   "execution_count": 14,
   "id": "613c9478-f181-47c0-b064-88501de6083a",
   "metadata": {},
   "outputs": [
    {
     "data": {
      "text/plain": [
       "2022    260\n",
       "2023    249\n",
       "Name: Year, dtype: int64"
      ]
     },
     "execution_count": 14,
     "metadata": {},
     "output_type": "execute_result"
    }
   ],
   "source": [
    "df['Year'].value_counts()"
   ]
  },
  {
   "cell_type": "markdown",
   "id": "21f1bf14-0491-4c83-8d45-7a30a22f421a",
   "metadata": {},
   "source": [
    "Now take 2nd Category i.e., DrCr"
   ]
  },
  {
   "cell_type": "markdown",
   "id": "7db75671-2f28-4039-aeb5-dc3a8324c9a2",
   "metadata": {},
   "source": [
    "1. Percent of debit and credit"
   ]
  },
  {
   "cell_type": "code",
   "execution_count": 15,
   "id": "95431919-fec0-4728-a868-fa34b091ea8c",
   "metadata": {},
   "outputs": [
    {
     "data": {
      "text/plain": [
       "Db    73.280943\n",
       "Cr    26.719057\n",
       "Name: DrCr, dtype: float64"
      ]
     },
     "execution_count": 15,
     "metadata": {},
     "output_type": "execute_result"
    }
   ],
   "source": [
    "df['DrCr'].value_counts()/df['DrCr'].value_counts().sum() * 100"
   ]
  },
  {
   "cell_type": "markdown",
   "id": "1dd9ec94-483e-4af6-8bd5-e14241e78855",
   "metadata": {},
   "source": [
    "2. Plot Graph of above observings"
   ]
  },
  {
   "cell_type": "code",
   "execution_count": 16,
   "id": "8e6615c6-9f90-404c-8711-2c0cedaa0de6",
   "metadata": {},
   "outputs": [
    {
     "data": {
      "text/plain": [
       "<Axes: ylabel='DrCr'>"
      ]
     },
     "execution_count": 16,
     "metadata": {},
     "output_type": "execute_result"
    },
    {
     "data": {
      "image/png": "[encoded data removed]",
      "text/plain": [
       "<Figure size 300x300 with 1 Axes>"
      ]
     },
     "metadata": {},
     "output_type": "display_data"
    }
   ],
   "source": [
    "df['DrCr'].value_counts().plot(kind='pie',figsize=(3,3))"
   ]
  },
  {
   "cell_type": "markdown",
   "id": "529ceede-7e76-43ad-9bd0-b7cbe00bdd5d",
   "metadata": {},
   "source": [
    "**Conclusion:** Out of 4 trnasactions 1 may be credit remaining 3(debits)"
   ]
  },
  {
   "cell_type": "markdown",
   "id": "680691dc-c125-4bd6-b936-8585ef8dbeae",
   "metadata": {},
   "source": [
    "Now 3rd Category i.e., Mode"
   ]
  },
  {
   "cell_type": "markdown",
   "id": "a49875f6-9274-4508-96be-366fb351e956",
   "metadata": {},
   "source": [
    "1. How Many ATM transactions are present?"
   ]
  },
  {
   "cell_type": "code",
   "execution_count": 17,
   "id": "4e8f6018-11ae-436d-824d-ba22c15cf9a0",
   "metadata": {},
   "outputs": [
    {
     "data": {
      "text/plain": [
       "49"
      ]
     },
     "execution_count": 17,
     "metadata": {},
     "output_type": "execute_result"
    }
   ],
   "source": [
    "(df['mode']=='ATM').sum()"
   ]
  },
  {
   "cell_type": "markdown",
   "id": "95b93c73-66b0-4239-b2db-c7063f0c9847",
   "metadata": {},
   "source": [
    "2. Percentages of UPI transactions?\n",
    "   **a.** Overall and\n",
    "   **b.** UPI vs ATM "
   ]
  },
  {
   "cell_type": "code",
   "execution_count": 18,
   "id": "4c047191-d0d9-4e7a-894b-61cdb1727131",
   "metadata": {},
   "outputs": [
    {
     "data": {
      "text/plain": [
       "72.69155206286837"
      ]
     },
     "execution_count": 18,
     "metadata": {},
     "output_type": "execute_result"
    }
   ],
   "source": [
    "df['mode'].value_counts()['UPI']/df['mode'].value_counts().sum() * 100"
   ]
  },
  {
   "cell_type": "code",
   "execution_count": 19,
   "id": "af023bac-7000-423a-acbc-025fd8c0e2d4",
   "metadata": {},
   "outputs": [
    {
     "data": {
      "text/plain": [
       "88.3054892601432"
      ]
     },
     "execution_count": 19,
     "metadata": {},
     "output_type": "execute_result"
    }
   ],
   "source": [
    "df['mode'].value_counts()['UPI'] / (df['mode'].value_counts()['UPI'] + df['mode'].value_counts()['ATM']) * 100"
   ]
  },
  {
   "cell_type": "markdown",
   "id": "50de9c1b-efb5-4f69-8610-39c85c3ff478",
   "metadata": {},
   "source": [
    "Now 4th Category i.e., Name"
   ]
  },
  {
   "cell_type": "markdown",
   "id": "30372d8c-ae93-4426-a6c5-d336806aa639",
   "metadata": {},
   "source": [
    "1. Name most frequent person ?"
   ]
  },
  {
   "cell_type": "code",
   "execution_count": 20,
   "id": "6ce6a1b2-23b2-44f4-bbde-34160a15d8c7",
   "metadata": {},
   "outputs": [
    {
     "data": {
      "text/plain": [
       "'ABUTALAH'"
      ]
     },
     "execution_count": 20,
     "metadata": {},
     "output_type": "execute_result"
    }
   ],
   "source": [
    "df['name'].value_counts().index[0]"
   ]
  },
  {
   "cell_type": "markdown",
   "id": "25f8af2e-5f1d-455c-909f-833ca0c53241",
   "metadata": {},
   "source": [
    "2. plot graph of top 5 names."
   ]
  },
  {
   "cell_type": "code",
   "execution_count": 21,
   "id": "7f4f8b61-7d2b-4940-a370-b50908ea7f1f",
   "metadata": {},
   "outputs": [
    {
     "data": {
      "text/plain": [
       "<Axes: >"
      ]
     },
     "execution_count": 21,
     "metadata": {},
     "output_type": "execute_result"
    },
    {
     "data": {
      "image/png": "[encoded data removed]",
      "text/plain": [
       "<Figure size 500x300 with 1 Axes>"
      ]
     },
     "metadata": {},
     "output_type": "display_data"
    }
   ],
   "source": [
    "df['name'].value_counts()[:6].plot(kind='bar', figsize=(5,3))"
   ]
  },
  {
   "cell_type": "markdown",
   "id": "64b5adb8-841e-4668-b9fc-09b89f65c330",
   "metadata": {},
   "source": [
    "#### Numerical colums"
   ]
  },
  {
   "cell_type": "markdown",
   "id": "7973afbd-ebd1-4a9d-b476-44a62b2dc6c5",
   "metadata": {},
   "source": [
    "Analysis corresponding to Column-amount"
   ]
  },
  {
   "cell_type": "markdown",
   "id": "157c3efe-50bf-4042-a9de-9ca4ae6d10d4",
   "metadata": {},
   "source": [
    "1. Plot a line chart to get overview across time."
   ]
  },
  {
   "cell_type": "code",
   "execution_count": 22,
   "id": "fe561b8a-90ca-493c-b096-c6118d0bde0e",
   "metadata": {},
   "outputs": [
    {
     "data": {
      "text/plain": [
       "<Axes: >"
      ]
     },
     "execution_count": 22,
     "metadata": {},
     "output_type": "execute_result"
    },
    {
     "data": {
      "image/png": "[encoded data removed]",
      "text/plain": [
       "<Figure size 700x300 with 1 Axes>"
      ]
     },
     "metadata": {},
     "output_type": "display_data"
    }
   ],
   "source": [
    "df['amount'].plot(figsize=(7,3))"
   ]
  },
  {
   "cell_type": "code",
   "execution_count": null,
   "id": "50160cdc-c94c-4779-acaa-2e4060ff1e85",
   "metadata": {},
   "outputs": [],
   "source": []
  },
  {
   "cell_type": "markdown",
   "id": "fee2c3dd-1eb4-47ff-ab70-759bbd0b961f",
   "metadata": {},
   "source": [
    "2. Plot a histogram on it"
   ]
  },
  {
   "cell_type": "code",
   "execution_count": 23,
   "id": "cc1a5e02-648f-4f8f-a705-33c2f33fb553",
   "metadata": {},
   "outputs": [
    {
     "data": {
      "text/plain": [
       "<Axes: ylabel='Frequency'>"
      ]
     },
     "execution_count": 23,
     "metadata": {},
     "output_type": "execute_result"
    },
    {
     "data": {
      "image/png": "[encoded data removed]",
      "text/plain": [
       "<Figure size 700x300 with 1 Axes>"
      ]
     },
     "metadata": {},
     "output_type": "display_data"
    }
   ],
   "source": [
    "df['amount'].plot(kind='hist', figsize=(7,3), bins=20)"
   ]
  },
  {
   "cell_type": "markdown",
   "id": "3e778ae2-846c-4282-ab17-1bb706e2b9b7",
   "metadata": {},
   "source": [
    "As we can see from line chart and histogram the outliers are present"
   ]
  },
  {
   "cell_type": "markdown",
   "id": "56aacfe0-07b1-412f-8fdf-b562aae9a893",
   "metadata": {},
   "source": [
    "There may be 5 outliers in data "
   ]
  },
  {
   "cell_type": "markdown",
   "id": "27be5c78-f021-4b02-beb3-8f69ef7c90db",
   "metadata": {},
   "source": [
    "3. Remove extreme ouliers from copy df2 and check distribution"
   ]
  },
  {
   "cell_type": "code",
   "execution_count": 24,
   "id": "b33de6cf-a507-4989-a32f-7bdcaf8bf78a",
   "metadata": {},
   "outputs": [
    {
     "data": {
      "text/plain": [
       "<Axes: >"
      ]
     },
     "execution_count": 24,
     "metadata": {},
     "output_type": "execute_result"
    },
    {
     "data": {
      "image/png": "[encoded data removed]",
      "text/plain": [
       "<Figure size 640x480 with 1 Axes>"
      ]
     },
     "metadata": {},
     "output_type": "display_data"
    }
   ],
   "source": [
    "df['amount'].plot(kind='box')"
   ]
  },
  {
   "cell_type": "markdown",
   "id": "23e579f6-65bf-4f20-8eda-d8e14c22e41e",
   "metadata": {},
   "source": [
    "There seem 4 extreme outliers greater than 100000"
   ]
  },
  {
   "cell_type": "code",
   "execution_count": 25,
   "id": "5e804050-7b2e-43e6-a07d-3f1a6548accd",
   "metadata": {},
   "outputs": [
    {
     "data": {
      "text/plain": [
       "504"
      ]
     },
     "execution_count": 25,
     "metadata": {},
     "output_type": "execute_result"
    }
   ],
   "source": [
    "(df2['amount']<=100000).sum()"
   ]
  },
  {
   "cell_type": "markdown",
   "id": "3a1064f6-a0d5-4d59-b2f6-60d510be987f",
   "metadata": {},
   "source": [
    "And there! are 5 may be overlaping points on box plot "
   ]
  },
  {
   "cell_type": "code",
   "execution_count": 26,
   "id": "802113d5-2572-45d9-af6d-fa4a20275937",
   "metadata": {},
   "outputs": [
    {
     "data": {
      "text/plain": [
       "<Axes: ylabel='Frequency'>"
      ]
     },
     "execution_count": 26,
     "metadata": {},
     "output_type": "execute_result"
    },
    {
     "data": {
      "image/png": "[encoded data removed]",
      "text/plain": [
       "<Figure size 640x480 with 1 Axes>"
      ]
     },
     "metadata": {},
     "output_type": "display_data"
    }
   ],
   "source": [
    "df2['amount'][df2['amount']<=100000].plot(kind='hist')"
   ]
  },
  {
   "cell_type": "markdown",
   "id": "f95e1df3-8b83-4da6-8c8d-1a8cc93fa6d6",
   "metadata": {},
   "source": [
    "4. Remove 7 from above distribution percentile data and plot."
   ]
  },
  {
   "cell_type": "code",
   "execution_count": 27,
   "id": "6bfd4724-60b4-459d-89ef-a666228aaea7",
   "metadata": {},
   "outputs": [],
   "source": [
    "df3 = df2['amount'][df2['amount']<=100000].copy()"
   ]
  },
  {
   "cell_type": "code",
   "execution_count": 28,
   "id": "c18e48ec-02a1-4b6e-846f-eba6fa174ba9",
   "metadata": {},
   "outputs": [
    {
     "data": {
      "text/plain": [
       "<Axes: ylabel='Frequency'>"
      ]
     },
     "execution_count": 28,
     "metadata": {},
     "output_type": "execute_result"
    },
    {
     "data": {
      "image/png": "[encoded data removed]",
      "text/plain": [
       "<Figure size 640x480 with 1 Axes>"
      ]
     },
     "metadata": {},
     "output_type": "display_data"
    }
   ],
   "source": [
    "df3[df3<df3.quantile(0.93)].plot(kind='hist')"
   ]
  },
  {
   "cell_type": "markdown",
   "id": "a0451282-840c-4b60-b5df-9f3c3e7de503",
   "metadata": {},
   "source": [
    "**Conclusion:** Its following Pareto distribution"
   ]
  },
  {
   "cell_type": "markdown",
   "id": "8cce828d-c92e-4078-ac19-c690b12ca5ee",
   "metadata": {},
   "source": [
    "Let's find what percent of data lies below 2500"
   ]
  },
  {
   "cell_type": "code",
   "execution_count": 29,
   "id": "f8ab6e0b-120a-44d0-9dd1-68f3a5d5761b",
   "metadata": {},
   "outputs": [
    {
     "data": {
      "text/plain": [
       "319"
      ]
     },
     "execution_count": 29,
     "metadata": {},
     "output_type": "execute_result"
    }
   ],
   "source": [
    "df3[df3<df3.quantile(0.93)][df3[df3<df3.quantile(0.93)]<2500].size"
   ]
  },
  {
   "cell_type": "code",
   "execution_count": 30,
   "id": "2ecc48ae-0827-4a76-bb31-81b299ca162c",
   "metadata": {},
   "outputs": [
    {
     "data": {
      "text/plain": [
       "456"
      ]
     },
     "execution_count": 30,
     "metadata": {},
     "output_type": "execute_result"
    }
   ],
   "source": [
    "df3[df3<df3.quantile(0.93)].size"
   ]
  },
  {
   "cell_type": "code",
   "execution_count": 31,
   "id": "796d2010-c209-473f-bc66-866362ef8292",
   "metadata": {},
   "outputs": [
    {
     "data": {
      "text/plain": [
       "70"
      ]
     },
     "execution_count": 31,
     "metadata": {},
     "output_type": "execute_result"
    }
   ],
   "source": [
    "round(319/456 * 100)"
   ]
  },
  {
   "cell_type": "markdown",
   "id": "aba9c87c-b7df-434c-9ddb-c51a9eff8ac9",
   "metadata": {},
   "source": [
    "Its foloowing 70-30 rule"
   ]
  },
  {
   "cell_type": "markdown",
   "id": "4f0e4d25-c625-412c-95f2-4d25652dd35f",
   "metadata": {},
   "source": [
    "# Bivariate Analysis"
   ]
  },
  {
   "cell_type": "code",
   "execution_count": 32,
   "id": "4c77c78c-6c56-4687-9ab6-48c9542f1c55",
   "metadata": {},
   "outputs": [
    {
     "data": {
      "text/plain": [
       "['date', 'DrCr', 'mode', 'name']"
      ]
     },
     "execution_count": 32,
     "metadata": {},
     "output_type": "execute_result"
    }
   ],
   "source": [
    "categorical_columns"
   ]
  },
  {
   "cell_type": "markdown",
   "id": "e7ba991d-b46e-42e4-ad94-01f57b7fd1de",
   "metadata": {},
   "source": [
    "1. Date vs DrCr category"
   ]
  },
  {
   "cell_type": "markdown",
   "id": "c506c727-f396-4944-a919-3a0479194328",
   "metadata": {},
   "source": [
    "a. Show Contingency Table "
   ]
  },
  {
   "cell_type": "code",
   "execution_count": 33,
   "id": "43b93a2a-b209-43be-bf90-b094e6015239",
   "metadata": {},
   "outputs": [
    {
     "data": {
      "text/html": [
       "<div>\n",
       "<style scoped>\n",
       "    .dataframe tbody tr th:only-of-type {\n",
       "        vertical-align: middle;\n",
       "    }\n",
       "\n",
       "    .dataframe tbody tr th {\n",
       "        vertical-align: top;\n",
       "    }\n",
       "\n",
       "    .dataframe thead th {\n",
       "        text-align: right;\n",
       "    }\n",
       "</style>\n",
       "<table border=\"1\" class=\"dataframe\">\n",
       "  <thead>\n",
       "    <tr style=\"text-align: right;\">\n",
       "      <th>DrCr</th>\n",
       "      <th>Cr</th>\n",
       "      <th>Db</th>\n",
       "    </tr>\n",
       "    <tr>\n",
       "      <th>Year</th>\n",
       "      <th></th>\n",
       "      <th></th>\n",
       "    </tr>\n",
       "  </thead>\n",
       "  <tbody>\n",
       "    <tr>\n",
       "      <th>2022</th>\n",
       "      <td>74</td>\n",
       "      <td>186</td>\n",
       "    </tr>\n",
       "    <tr>\n",
       "      <th>2023</th>\n",
       "      <td>62</td>\n",
       "      <td>187</td>\n",
       "    </tr>\n",
       "  </tbody>\n",
       "</table>\n",
       "</div>"
      ],
      "text/plain": [
       "DrCr  Cr   Db\n",
       "Year         \n",
       "2022  74  186\n",
       "2023  62  187"
      ]
     },
     "execution_count": 33,
     "metadata": {},
     "output_type": "execute_result"
    }
   ],
   "source": [
    "pd.crosstab(df['Year'],df['DrCr'])"
   ]
  },
  {
   "cell_type": "markdown",
   "id": "c6f2d7af-4de9-4fd0-aa69-36ea2d966aff",
   "metadata": {},
   "source": [
    "#### Balance the a/c for year 2023"
   ]
  },
  {
   "cell_type": "code",
   "execution_count": 108,
   "id": "47b16d5d-3c65-485d-8860-ba07ffc64907",
   "metadata": {},
   "outputs": [],
   "source": [
    "a2023 = df.groupby('Year').get_group('2023')"
   ]
  },
  {
   "cell_type": "code",
   "execution_count": 110,
   "id": "45e56b03-c6e3-453e-b9fd-fb883ec26183",
   "metadata": {},
   "outputs": [
    {
     "data": {
      "text/plain": [
       "770824.41"
      ]
     },
     "execution_count": 110,
     "metadata": {},
     "output_type": "execute_result"
    }
   ],
   "source": [
    "a2023[a2023['DrCr']=='Cr']['amount'].sum()"
   ]
  },
  {
   "cell_type": "code",
   "execution_count": 111,
   "id": "b97224db-5544-4f98-8942-af88b5817432",
   "metadata": {},
   "outputs": [
    {
     "data": {
      "text/plain": [
       "780848.98"
      ]
     },
     "execution_count": 111,
     "metadata": {},
     "output_type": "execute_result"
    }
   ],
   "source": [
    "a2023[a2023['DrCr']=='Db']['amount'].sum()"
   ]
  },
  {
   "cell_type": "code",
   "execution_count": 124,
   "id": "067d1d54-7972-4ca5-9398-71014135c944",
   "metadata": {},
   "outputs": [
    {
     "data": {
      "text/plain": [
       "104980.04"
      ]
     },
     "execution_count": 124,
     "metadata": {},
     "output_type": "execute_result"
    }
   ],
   "source": [
    "df.iloc[259]['balance'] # there are 260 transactions in year 2022"
   ]
  },
  {
   "cell_type": "code",
   "execution_count": 125,
   "id": "cec455bd-b153-4f83-9c0a-47ed170bd78f",
   "metadata": {},
   "outputs": [
    {
     "data": {
      "text/plain": [
       "94955.47"
      ]
     },
     "execution_count": 125,
     "metadata": {},
     "output_type": "execute_result"
    }
   ],
   "source": [
    "df.iloc[508]['balance'] # balance at last day of 2023 from data available"
   ]
  },
  {
   "cell_type": "markdown",
   "id": "b18f831c-f5bc-4279-bbdf-54e45384c7d0",
   "metadata": {},
   "source": [
    "#### Balancing a/c for the year 2023\n",
    "###### Opening Balance = 104980.04\n",
    "###### Amount Credited in Year 2023 = 770824.41\n",
    "###### Amount Debited in Year 2023 = 780848.98\n",
    "###### Closing Balance = 94955.47\n"
   ]
  },
  {
   "cell_type": "markdown",
   "id": "6c49af9c-d061-4b26-ac23-ad8c3789dbda",
   "metadata": {},
   "source": [
    "b. How many days of year 2023 are without a Debit type of transaction"
   ]
  },
  {
   "cell_type": "code",
   "execution_count": 34,
   "id": "f3b3b9c4-b71d-4b80-9cc7-0f025120bf58",
   "metadata": {},
   "outputs": [
    {
     "data": {
      "text/html": [
       "<div>\n",
       "<style scoped>\n",
       "    .dataframe tbody tr th:only-of-type {\n",
       "        vertical-align: middle;\n",
       "    }\n",
       "\n",
       "    .dataframe tbody tr th {\n",
       "        vertical-align: top;\n",
       "    }\n",
       "\n",
       "    .dataframe thead th {\n",
       "        text-align: right;\n",
       "    }\n",
       "</style>\n",
       "<table border=\"1\" class=\"dataframe\">\n",
       "  <thead>\n",
       "    <tr style=\"text-align: right;\">\n",
       "      <th>DrCr</th>\n",
       "      <th>Cr</th>\n",
       "      <th>Db</th>\n",
       "    </tr>\n",
       "    <tr>\n",
       "      <th>date</th>\n",
       "      <th></th>\n",
       "      <th></th>\n",
       "    </tr>\n",
       "  </thead>\n",
       "  <tbody>\n",
       "    <tr>\n",
       "      <th>01-01-2022</th>\n",
       "      <td>0</td>\n",
       "      <td>2</td>\n",
       "    </tr>\n",
       "    <tr>\n",
       "      <th>01-01-2023</th>\n",
       "      <td>1</td>\n",
       "      <td>1</td>\n",
       "    </tr>\n",
       "    <tr>\n",
       "      <th>01-02-2022</th>\n",
       "      <td>1</td>\n",
       "      <td>0</td>\n",
       "    </tr>\n",
       "    <tr>\n",
       "      <th>01-02-2023</th>\n",
       "      <td>1</td>\n",
       "      <td>0</td>\n",
       "    </tr>\n",
       "    <tr>\n",
       "      <th>01-03-2022</th>\n",
       "      <td>1</td>\n",
       "      <td>2</td>\n",
       "    </tr>\n",
       "    <tr>\n",
       "      <th>...</th>\n",
       "      <td>...</td>\n",
       "      <td>...</td>\n",
       "    </tr>\n",
       "    <tr>\n",
       "      <th>31-01-2023</th>\n",
       "      <td>2</td>\n",
       "      <td>3</td>\n",
       "    </tr>\n",
       "    <tr>\n",
       "      <th>31-03-2022</th>\n",
       "      <td>0</td>\n",
       "      <td>1</td>\n",
       "    </tr>\n",
       "    <tr>\n",
       "      <th>31-07-2023</th>\n",
       "      <td>0</td>\n",
       "      <td>1</td>\n",
       "    </tr>\n",
       "    <tr>\n",
       "      <th>31-10-2022</th>\n",
       "      <td>0</td>\n",
       "      <td>1</td>\n",
       "    </tr>\n",
       "    <tr>\n",
       "      <th>31-12-2022</th>\n",
       "      <td>1</td>\n",
       "      <td>0</td>\n",
       "    </tr>\n",
       "  </tbody>\n",
       "</table>\n",
       "<p>313 rows × 2 columns</p>\n",
       "</div>"
      ],
      "text/plain": [
       "DrCr        Cr  Db\n",
       "date              \n",
       "01-01-2022   0   2\n",
       "01-01-2023   1   1\n",
       "01-02-2022   1   0\n",
       "01-02-2023   1   0\n",
       "01-03-2022   1   2\n",
       "...         ..  ..\n",
       "31-01-2023   2   3\n",
       "31-03-2022   0   1\n",
       "31-07-2023   0   1\n",
       "31-10-2022   0   1\n",
       "31-12-2022   1   0\n",
       "\n",
       "[313 rows x 2 columns]"
      ]
     },
     "execution_count": 34,
     "metadata": {},
     "output_type": "execute_result"
    }
   ],
   "source": [
    "pd.crosstab(df['date'],df['DrCr']) # - pd.crosstab(df['Year'],df['DrCr'])['Db']['2023']"
   ]
  },
  {
   "cell_type": "code",
   "execution_count": 35,
   "id": "8dbc40ed-3181-43f7-9f4c-2fedeb6fb980",
   "metadata": {},
   "outputs": [],
   "source": [
    "ac = 646-365 # number of days from 1/jan/2023 to 7/oct/2023"
   ]
  },
  {
   "cell_type": "code",
   "execution_count": 36,
   "id": "d8779a0d-51e0-43d6-8b93-3322f7f7d5ae",
   "metadata": {},
   "outputs": [],
   "source": [
    "df2 = df.set_index('date').copy()"
   ]
  },
  {
   "cell_type": "code",
   "execution_count": 37,
   "id": "24c158a7-046e-4158-b301-5016b4439437",
   "metadata": {},
   "outputs": [],
   "source": [
    "year_2023 = df2[df2['Year']=='2023'].index"
   ]
  },
  {
   "cell_type": "code",
   "execution_count": 38,
   "id": "e9d87c92-65b3-4221-b33a-0510b63f9f4d",
   "metadata": {},
   "outputs": [
    {
     "data": {
      "text/plain": [
       "34"
      ]
     },
     "execution_count": 38,
     "metadata": {},
     "output_type": "execute_result"
    }
   ],
   "source": [
    "(pd.crosstab(df['date'],df['DrCr']).loc[year_2023]['Db'] == 0).sum()"
   ]
  },
  {
   "cell_type": "markdown",
   "id": "7b813c6a-ce45-4f82-bb08-7095dbf803d9",
   "metadata": {},
   "source": [
    "Therefore, 34 days there are no bebit transactions in year 2023"
   ]
  },
  {
   "cell_type": "code",
   "execution_count": 39,
   "id": "63bfd710-b8d8-40c5-a062-752de7212ce1",
   "metadata": {},
   "outputs": [
    {
     "data": {
      "text/plain": [
       "249"
      ]
     },
     "execution_count": 39,
     "metadata": {},
     "output_type": "execute_result"
    }
   ],
   "source": [
    "(pd.crosstab(df['date'],df['DrCr']).loc[year_2023]['Db']<6).sum()"
   ]
  },
  {
   "cell_type": "markdown",
   "id": "5a21e2f6-f42f-441b-987d-adcf980c5d07",
   "metadata": {},
   "source": [
    "There are 249 Transactioon in year 2023"
   ]
  },
  {
   "cell_type": "code",
   "execution_count": 40,
   "id": "12c5ad0e-e4fb-4324-ac4a-7a0d95bbcb20",
   "metadata": {},
   "outputs": [
    {
     "data": {
      "text/plain": [
       "32"
      ]
     },
     "execution_count": 40,
     "metadata": {},
     "output_type": "execute_result"
    }
   ],
   "source": [
    "ac - 249"
   ]
  },
  {
   "cell_type": "markdown",
   "id": "efaf2a9a-db5e-40a5-a0c6-118f60729e79",
   "metadata": {},
   "source": [
    "There are no debit type of transaction on 32 day"
   ]
  },
  {
   "cell_type": "markdown",
   "id": "c23d8099-8504-4f6c-83a2-09aa6e0f5714",
   "metadata": {},
   "source": [
    "c. How many days of year 2022 have debit or credit transaction"
   ]
  },
  {
   "cell_type": "markdown",
   "id": "af175747-61dc-4692-a643-d2789528134c",
   "metadata": {},
   "source": [
    "By the fact that, in dataset each mentioned day is either a debit or credit type of transaction \n",
    "can just subtract them from total days"
   ]
  },
  {
   "cell_type": "code",
   "execution_count": 41,
   "id": "f33b5a7a-0940-40fb-92ce-042bdd0f05cf",
   "metadata": {},
   "outputs": [
    {
     "data": {
      "text/plain": [
       "313"
      ]
     },
     "execution_count": 41,
     "metadata": {},
     "output_type": "execute_result"
    }
   ],
   "source": [
    "len(set(df2.index)) # df2.index <-- there are repeated values hence typecast into a set"
   ]
  },
  {
   "cell_type": "code",
   "execution_count": 42,
   "id": "5652da5e-9c34-4836-84a8-1deae6cd0476",
   "metadata": {},
   "outputs": [
    {
     "data": {
      "text/plain": [
       "168"
      ]
     },
     "execution_count": 42,
     "metadata": {},
     "output_type": "execute_result"
    }
   ],
   "source": [
    "313 - len(set(year_2023)) #transactions days in year 2022"
   ]
  },
  {
   "cell_type": "markdown",
   "id": "e691c0bf-5543-401d-b89a-9af6c8deae20",
   "metadata": {},
   "source": [
    "d. Day or Days on which maximum number of credit happened?"
   ]
  },
  {
   "cell_type": "code",
   "execution_count": 43,
   "id": "07bf8c7f-7476-421b-9112-00cbf4167b1b",
   "metadata": {},
   "outputs": [],
   "source": [
    "dates = pd.crosstab(df['date'],df['DrCr'])['Cr'][pd.crosstab(df['date'],df['DrCr'])['Cr'] == pd.crosstab(df['date'],df['DrCr'])['Cr'].max()].index"
   ]
  },
  {
   "cell_type": "code",
   "execution_count": 44,
   "id": "a6af86c6-06e2-4dcc-8497-df7a99459e4f",
   "metadata": {},
   "outputs": [
    {
     "data": {
      "text/plain": [
       "['06-10-2023', '10-07-2023', '11-05-2022', '14-12-2022']"
      ]
     },
     "execution_count": 44,
     "metadata": {},
     "output_type": "execute_result"
    }
   ],
   "source": [
    "list(dates)"
   ]
  },
  {
   "cell_type": "markdown",
   "id": "8e990df6-d2c9-4c7f-9ce4-bb616fbc830b",
   "metadata": {},
   "source": [
    "2. Date vs Mode"
   ]
  },
  {
   "cell_type": "markdown",
   "id": "ea404742-49ab-4b25-a9bc-0f769ae168e9",
   "metadata": {},
   "source": [
    "a. Form a contengency table between them"
   ]
  },
  {
   "cell_type": "code",
   "execution_count": 45,
   "id": "58869a5f-e8ee-471b-8d92-4b4da7dfa0ed",
   "metadata": {},
   "outputs": [
    {
     "data": {
      "text/html": [
       "<div>\n",
       "<style scoped>\n",
       "    .dataframe tbody tr th:only-of-type {\n",
       "        vertical-align: middle;\n",
       "    }\n",
       "\n",
       "    .dataframe tbody tr th {\n",
       "        vertical-align: top;\n",
       "    }\n",
       "\n",
       "    .dataframe thead th {\n",
       "        text-align: right;\n",
       "    }\n",
       "</style>\n",
       "<table border=\"1\" class=\"dataframe\">\n",
       "  <thead>\n",
       "    <tr style=\"text-align: right;\">\n",
       "      <th>mode</th>\n",
       "      <th>ATM</th>\n",
       "      <th>CHEQUE</th>\n",
       "      <th>DEBIT CARD ANNUAL</th>\n",
       "      <th>ECS</th>\n",
       "      <th>FUNDS TRANSFER DEBIT</th>\n",
       "      <th>IMPS</th>\n",
       "      <th>NEFT</th>\n",
       "      <th>OTHER</th>\n",
       "      <th>SBINT</th>\n",
       "      <th>SMS CHARGES</th>\n",
       "      <th>STOCK CHRG</th>\n",
       "      <th>UNKNOWN</th>\n",
       "      <th>UPI</th>\n",
       "    </tr>\n",
       "    <tr>\n",
       "      <th>Year</th>\n",
       "      <th></th>\n",
       "      <th></th>\n",
       "      <th></th>\n",
       "      <th></th>\n",
       "      <th></th>\n",
       "      <th></th>\n",
       "      <th></th>\n",
       "      <th></th>\n",
       "      <th></th>\n",
       "      <th></th>\n",
       "      <th></th>\n",
       "      <th></th>\n",
       "      <th></th>\n",
       "    </tr>\n",
       "  </thead>\n",
       "  <tbody>\n",
       "    <tr>\n",
       "      <th>2022</th>\n",
       "      <td>18</td>\n",
       "      <td>4</td>\n",
       "      <td>1</td>\n",
       "      <td>12</td>\n",
       "      <td>1</td>\n",
       "      <td>3</td>\n",
       "      <td>24</td>\n",
       "      <td>0</td>\n",
       "      <td>4</td>\n",
       "      <td>4</td>\n",
       "      <td>2</td>\n",
       "      <td>0</td>\n",
       "      <td>187</td>\n",
       "    </tr>\n",
       "    <tr>\n",
       "      <th>2023</th>\n",
       "      <td>31</td>\n",
       "      <td>1</td>\n",
       "      <td>1</td>\n",
       "      <td>10</td>\n",
       "      <td>1</td>\n",
       "      <td>1</td>\n",
       "      <td>13</td>\n",
       "      <td>1</td>\n",
       "      <td>3</td>\n",
       "      <td>3</td>\n",
       "      <td>0</td>\n",
       "      <td>1</td>\n",
       "      <td>183</td>\n",
       "    </tr>\n",
       "  </tbody>\n",
       "</table>\n",
       "</div>"
      ],
      "text/plain": [
       "mode  ATM  CHEQUE  DEBIT CARD ANNUAL  ECS  FUNDS TRANSFER DEBIT  IMPS  NEFT  \\\n",
       "Year                                                                          \n",
       "2022   18       4                  1   12                     1     3    24   \n",
       "2023   31       1                  1   10                     1     1    13   \n",
       "\n",
       "mode  OTHER  SBINT  SMS CHARGES  STOCK CHRG  UNKNOWN  UPI  \n",
       "Year                                                       \n",
       "2022      0      4            4           2        0  187  \n",
       "2023      1      3            3           0        1  183  "
      ]
     },
     "execution_count": 45,
     "metadata": {},
     "output_type": "execute_result"
    }
   ],
   "source": [
    "pd.crosstab(df['Year'],df['mode'])"
   ]
  },
  {
   "cell_type": "markdown",
   "id": "d787a513-e89b-459f-b6aa-0a6953891ba1",
   "metadata": {},
   "source": [
    "**Conclusion:** There Seems positive correlation between them"
   ]
  },
  {
   "cell_type": "markdown",
   "id": "2a6c9900-9d6e-4b8d-96aa-822e0d9df05a",
   "metadata": {},
   "source": [
    "b. Plot Scatter plot of above data"
   ]
  },
  {
   "cell_type": "code",
   "execution_count": 46,
   "id": "ecd96d10-9535-4129-9cac-15a7b4878fbb",
   "metadata": {},
   "outputs": [],
   "source": [
    "x = pd.crosstab(df['Year'],df['mode']).iloc[0]"
   ]
  },
  {
   "cell_type": "code",
   "execution_count": 47,
   "id": "71a427c6-75c1-4bea-9f14-1844518f1a1b",
   "metadata": {},
   "outputs": [],
   "source": [
    "y = pd.crosstab(df['Year'],df['mode']).iloc[1]"
   ]
  },
  {
   "cell_type": "code",
   "execution_count": 48,
   "id": "deb6753f-af95-4ca1-b498-b98307cbb143",
   "metadata": {},
   "outputs": [
    {
     "data": {
      "image/png": "[encoded data removed]",
      "text/plain": [
       "<Figure size 640x480 with 1 Axes>"
      ]
     },
     "metadata": {},
     "output_type": "display_data"
    }
   ],
   "source": [
    "plt.scatter(x, y)\n",
    "plt.show()"
   ]
  },
  {
   "cell_type": "code",
   "execution_count": 49,
   "id": "a64c43bf-7829-4a86-a19d-133f91762b5c",
   "metadata": {},
   "outputs": [],
   "source": [
    "import scipy.stats as st"
   ]
  },
  {
   "cell_type": "code",
   "execution_count": 50,
   "id": "a4928be4-02a4-4e17-a215-3781db7b20cf",
   "metadata": {},
   "outputs": [
    {
     "data": {
      "text/plain": [
       "0.9948227074726175"
      ]
     },
     "execution_count": 50,
     "metadata": {},
     "output_type": "execute_result"
    }
   ],
   "source": [
    "st.pearsonr(x,y)[0]"
   ]
  },
  {
   "cell_type": "markdown",
   "id": "ee9ffe7f-55fa-4bf0-80e8-f8fc941b7c3c",
   "metadata": {},
   "source": [
    "3. Date vs Name"
   ]
  },
  {
   "cell_type": "markdown",
   "id": "a9ebe00c-f363-400f-810b-1cb49121070e",
   "metadata": {},
   "source": [
    "a. The person who's trnsaction are more in 2023"
   ]
  },
  {
   "cell_type": "code",
   "execution_count": 51,
   "id": "0ffe17f6-7608-4321-b89b-61e884a827e4",
   "metadata": {},
   "outputs": [],
   "source": [
    "c = df.groupby('Year').get_group('2023')['name'].value_counts()"
   ]
  },
  {
   "cell_type": "code",
   "execution_count": 52,
   "id": "f4df5dbf-7db9-4e32-b861-5cf5faa18bbd",
   "metadata": {},
   "outputs": [
    {
     "data": {
      "text/plain": [
       "ABUTALAH    35\n",
       "Name: name, dtype: int64"
      ]
     },
     "execution_count": 52,
     "metadata": {},
     "output_type": "execute_result"
    }
   ],
   "source": [
    "c[c == c.max()]"
   ]
  },
  {
   "cell_type": "markdown",
   "id": "70e5a540-f977-432a-9e5f-d5b0289479f3",
   "metadata": {},
   "source": [
    "b. 3rd most person in year 2022"
   ]
  },
  {
   "cell_type": "code",
   "execution_count": 53,
   "id": "45e5d111-06dd-465b-8648-b8f637f9a4bc",
   "metadata": {},
   "outputs": [],
   "source": [
    "c = df.groupby('Year').get_group('2022')['name'].value_counts()"
   ]
  },
  {
   "cell_type": "code",
   "execution_count": 54,
   "id": "66324b10-f339-453f-be2c-042bd6dd4b9e",
   "metadata": {},
   "outputs": [
    {
     "data": {
      "text/plain": [
       "'NAFEESAB'"
      ]
     },
     "execution_count": 54,
     "metadata": {},
     "output_type": "execute_result"
    }
   ],
   "source": [
    "c.index[2]"
   ]
  },
  {
   "cell_type": "markdown",
   "id": "8c07e106-ff4f-41a0-a930-f2679b35b8e9",
   "metadata": {},
   "source": [
    "4. DrCr vs Mode"
   ]
  },
  {
   "cell_type": "markdown",
   "id": "0a78cb76-6e8b-4990-b507-e747114b7458",
   "metadata": {},
   "source": [
    "a. Contengency table "
   ]
  },
  {
   "cell_type": "code",
   "execution_count": 55,
   "id": "d71b7b78-a811-4aa4-8092-9ca37e7751c5",
   "metadata": {},
   "outputs": [
    {
     "data": {
      "text/html": [
       "<div>\n",
       "<style scoped>\n",
       "    .dataframe tbody tr th:only-of-type {\n",
       "        vertical-align: middle;\n",
       "    }\n",
       "\n",
       "    .dataframe tbody tr th {\n",
       "        vertical-align: top;\n",
       "    }\n",
       "\n",
       "    .dataframe thead th {\n",
       "        text-align: right;\n",
       "    }\n",
       "</style>\n",
       "<table border=\"1\" class=\"dataframe\">\n",
       "  <thead>\n",
       "    <tr style=\"text-align: right;\">\n",
       "      <th>mode</th>\n",
       "      <th>ATM</th>\n",
       "      <th>CHEQUE</th>\n",
       "      <th>DEBIT CARD ANNUAL</th>\n",
       "      <th>ECS</th>\n",
       "      <th>FUNDS TRANSFER DEBIT</th>\n",
       "      <th>IMPS</th>\n",
       "      <th>NEFT</th>\n",
       "      <th>OTHER</th>\n",
       "      <th>SBINT</th>\n",
       "      <th>SMS CHARGES</th>\n",
       "      <th>STOCK CHRG</th>\n",
       "      <th>UNKNOWN</th>\n",
       "      <th>UPI</th>\n",
       "    </tr>\n",
       "    <tr>\n",
       "      <th>DrCr</th>\n",
       "      <th></th>\n",
       "      <th></th>\n",
       "      <th></th>\n",
       "      <th></th>\n",
       "      <th></th>\n",
       "      <th></th>\n",
       "      <th></th>\n",
       "      <th></th>\n",
       "      <th></th>\n",
       "      <th></th>\n",
       "      <th></th>\n",
       "      <th></th>\n",
       "      <th></th>\n",
       "    </tr>\n",
       "  </thead>\n",
       "  <tbody>\n",
       "    <tr>\n",
       "      <th>Cr</th>\n",
       "      <td>2</td>\n",
       "      <td>1</td>\n",
       "      <td>0</td>\n",
       "      <td>21</td>\n",
       "      <td>2</td>\n",
       "      <td>4</td>\n",
       "      <td>37</td>\n",
       "      <td>0</td>\n",
       "      <td>7</td>\n",
       "      <td>0</td>\n",
       "      <td>0</td>\n",
       "      <td>0</td>\n",
       "      <td>62</td>\n",
       "    </tr>\n",
       "    <tr>\n",
       "      <th>Db</th>\n",
       "      <td>47</td>\n",
       "      <td>4</td>\n",
       "      <td>2</td>\n",
       "      <td>1</td>\n",
       "      <td>0</td>\n",
       "      <td>0</td>\n",
       "      <td>0</td>\n",
       "      <td>1</td>\n",
       "      <td>0</td>\n",
       "      <td>7</td>\n",
       "      <td>2</td>\n",
       "      <td>1</td>\n",
       "      <td>308</td>\n",
       "    </tr>\n",
       "  </tbody>\n",
       "</table>\n",
       "</div>"
      ],
      "text/plain": [
       "mode  ATM  CHEQUE  DEBIT CARD ANNUAL  ECS  FUNDS TRANSFER DEBIT  IMPS  NEFT  \\\n",
       "DrCr                                                                          \n",
       "Cr      2       1                  0   21                     2     4    37   \n",
       "Db     47       4                  2    1                     0     0     0   \n",
       "\n",
       "mode  OTHER  SBINT  SMS CHARGES  STOCK CHRG  UNKNOWN  UPI  \n",
       "DrCr                                                       \n",
       "Cr        0      7            0           0        0   62  \n",
       "Db        1      0            7           2        1  308  "
      ]
     },
     "execution_count": 55,
     "metadata": {},
     "output_type": "execute_result"
    }
   ],
   "source": [
    "x = df['DrCr']\n",
    "y = df['mode']\n",
    "pd.crosstab(x,y)"
   ]
  },
  {
   "cell_type": "markdown",
   "id": "1ca1df70-86f9-4f73-8dd4-4673e25d907d",
   "metadata": {},
   "source": [
    "b. Which mode of transaction has more Credit"
   ]
  },
  {
   "cell_type": "code",
   "execution_count": 56,
   "id": "37c51cc5-bab9-4fec-aecb-2634dc85bdc3",
   "metadata": {},
   "outputs": [],
   "source": [
    "mode_tr = pd.crosstab(df['DrCr'], df['mode']).loc['Cr']"
   ]
  },
  {
   "cell_type": "code",
   "execution_count": 57,
   "id": "02d53b5f-d80c-4cde-8008-9f6fe9976b72",
   "metadata": {},
   "outputs": [
    {
     "data": {
      "text/plain": [
       "mode\n",
       "UPI    62\n",
       "Name: Cr, dtype: int64"
      ]
     },
     "execution_count": 57,
     "metadata": {},
     "output_type": "execute_result"
    }
   ],
   "source": [
    "mode_tr[mode_tr==mode_tr.max()]"
   ]
  },
  {
   "cell_type": "markdown",
   "id": "34a129dc-7e7f-4c55-81d4-94e596512e18",
   "metadata": {},
   "source": [
    "**OR**"
   ]
  },
  {
   "cell_type": "code",
   "execution_count": 58,
   "id": "706f7805-7700-4613-9c36-ec5f0bd2726a",
   "metadata": {},
   "outputs": [
    {
     "data": {
      "text/plain": [
       "'UPI'"
      ]
     },
     "execution_count": 58,
     "metadata": {},
     "output_type": "execute_result"
    }
   ],
   "source": [
    "df.groupby('DrCr').get_group('Cr')['mode'].value_counts().index[0]"
   ]
  },
  {
   "cell_type": "markdown",
   "id": "5d7e3f22-47cd-44e6-88ee-83456188dd19",
   "metadata": {},
   "source": [
    "5. DrCr Vs name"
   ]
  },
  {
   "cell_type": "markdown",
   "id": "69062ed4-ed31-4c59-8c7f-c7c25be8e01a",
   "metadata": {},
   "source": [
    "a. Who is 4th most person to do Credit type of transaction"
   ]
  },
  {
   "cell_type": "code",
   "execution_count": 59,
   "id": "69fa4529-c17a-4905-8933-44a4a3b0d170",
   "metadata": {},
   "outputs": [
    {
     "data": {
      "text/plain": [
       "'DADAKHALA'"
      ]
     },
     "execution_count": 59,
     "metadata": {},
     "output_type": "execute_result"
    }
   ],
   "source": [
    "df.groupby('DrCr').get_group('Cr')['name'].value_counts().index[3]"
   ]
  },
  {
   "cell_type": "markdown",
   "id": "e5fe9e7b-ba01-4c9d-a188-1e846e6530fd",
   "metadata": {},
   "source": [
    "b. name of all person who are in debit type only"
   ]
  },
  {
   "cell_type": "code",
   "execution_count": 60,
   "id": "ac2df1f5-86d0-4f63-844f-cc0528b7ef4b",
   "metadata": {},
   "outputs": [
    {
     "data": {
      "text/plain": [
       "{'1MGHEALT',\n",
       " 'ABUTALAH',\n",
       " 'ASGARALI',\n",
       " 'BHIMANAGO',\n",
       " 'BUDESAHEB',\n",
       " 'DADAKHALA',\n",
       " 'HANAMANTH',\n",
       " 'ISUFSABA',\n",
       " 'KOTINATOT',\n",
       " 'MAHAMMADG',\n",
       " 'MALATESH',\n",
       " 'MANIYARA',\n",
       " 'MEHTAMOH',\n",
       " 'MOHAMMED',\n",
       " 'MOHAMMEDI',\n",
       " 'NAFEESAB',\n",
       " 'PHONEPE',\n",
       " 'RAHILMAN',\n",
       " 'SANTOSHI',\n",
       " 'SHIVANAND',\n",
       " nan}"
      ]
     },
     "execution_count": 60,
     "metadata": {},
     "output_type": "execute_result"
    }
   ],
   "source": [
    "set(df.groupby('DrCr').get_group('Cr')['name'].values) \n",
    "#name of all person who have done Cr type of transaction"
   ]
  },
  {
   "cell_type": "code",
   "execution_count": 61,
   "id": "1e15e8c6-1792-4745-9589-3a61d44b46ea",
   "metadata": {},
   "outputs": [
    {
     "data": {
      "text/plain": [
       "21"
      ]
     },
     "execution_count": 61,
     "metadata": {},
     "output_type": "execute_result"
    }
   ],
   "source": [
    "len(set(df.groupby('DrCr').get_group('Cr')['name'].values))"
   ]
  },
  {
   "cell_type": "code",
   "execution_count": 62,
   "id": "bd21f999-0372-4aaa-a98e-53a96c0f46f3",
   "metadata": {},
   "outputs": [
    {
     "data": {
      "text/plain": [
       "75"
      ]
     },
     "execution_count": 62,
     "metadata": {},
     "output_type": "execute_result"
    }
   ],
   "source": [
    "df['name'].value_counts().size # Number of persons who have done transactions"
   ]
  },
  {
   "cell_type": "markdown",
   "id": "e49819a6-6c13-436a-ac9d-21f6a46ff65e",
   "metadata": {},
   "source": [
    "But Who are they?"
   ]
  },
  {
   "cell_type": "code",
   "execution_count": 63,
   "id": "12769e92-89c3-4b9f-8d28-fd37f182cbb5",
   "metadata": {},
   "outputs": [
    {
     "data": {
      "text/plain": [
       "{'ABDULHAME',\n",
       " 'ABUTALICN',\n",
       " 'ADINATHM',\n",
       " 'AGRAWALB',\n",
       " 'AKHEELAH',\n",
       " 'AMAZONPA',\n",
       " 'AMAZONPAY',\n",
       " 'ASHOKHUC',\n",
       " 'AYUBRAJE',\n",
       " 'BAJAJFIN',\n",
       " 'BANKACCO',\n",
       " 'BHAJARANG',\n",
       " 'CHANDRAKA',\n",
       " 'DOMINOSP',\n",
       " 'ECOMEXPRE',\n",
       " 'FLIPKART',\n",
       " 'GOASELEC',\n",
       " 'HDFCBANK',\n",
       " 'HESCOMBI',\n",
       " 'HUCHCHAPP',\n",
       " 'IBRAHIMK',\n",
       " 'INDIANIN',\n",
       " 'JESARAMG',\n",
       " 'JIOINAPP',\n",
       " 'KANSINGH',\n",
       " 'KHALILABA',\n",
       " 'KIRNAKUMA',\n",
       " 'KOTAKGEN',\n",
       " 'LAGADEKSA',\n",
       " 'MADANLAL',\n",
       " 'MAHAMMADH',\n",
       " 'MAHARANI',\n",
       " 'MANAPPURA',\n",
       " 'MANENTER',\n",
       " 'MEESHO',\n",
       " 'MOHAMMEDT',\n",
       " 'MOMAHADHU',\n",
       " 'NANDISHM',\n",
       " 'NINECITY',\n",
       " 'PRAKASHK',\n",
       " 'PRATIKC',\n",
       " 'RANGOL|S',\n",
       " 'RAVIKUMAR',\n",
       " 'SAGAR',\n",
       " 'SAIDUSABI',\n",
       " 'SANGALLI',\n",
       " 'SANJAYLA',\n",
       " 'SHRIGOPA',\n",
       " 'SHRIRAGH',\n",
       " 'SIMABAYl',\n",
       " 'STATEBAN',\n",
       " 'SUNILKA',\n",
       " 'SUNILSHA',\n",
       " 'UTTAMRAJ',\n",
       " 'VINAYAKV'}"
      ]
     },
     "execution_count": 63,
     "metadata": {},
     "output_type": "execute_result"
    }
   ],
   "source": [
    "(set(df['name'].value_counts().index) - set(df.groupby('DrCr').get_group('Cr')['name'].values))"
   ]
  },
  {
   "cell_type": "code",
   "execution_count": 64,
   "id": "b8396564-c056-4a8d-8db7-206bd4598748",
   "metadata": {},
   "outputs": [
    {
     "data": {
      "text/plain": [
       "['date', 'DrCr', 'mode', 'name']"
      ]
     },
     "execution_count": 64,
     "metadata": {},
     "output_type": "execute_result"
    }
   ],
   "source": [
    "categorical_columns"
   ]
  },
  {
   "cell_type": "markdown",
   "id": "58889669-37eb-4946-95ee-5bbe7e170855",
   "metadata": {},
   "source": [
    "Categorical Vs Numerical"
   ]
  },
  {
   "cell_type": "code",
   "execution_count": 65,
   "id": "831b91f1-acc2-4af0-9d5f-22fd58be6d5e",
   "metadata": {},
   "outputs": [
    {
     "data": {
      "text/plain": [
       "['amount', 'balance']"
      ]
     },
     "execution_count": 65,
     "metadata": {},
     "output_type": "execute_result"
    }
   ],
   "source": [
    "numerical_columns"
   ]
  },
  {
   "cell_type": "markdown",
   "id": "8b45f99f-c0fc-41d6-b9a8-402784d7c3cd",
   "metadata": {},
   "source": [
    "Here 8 combinations are possible"
   ]
  },
  {
   "cell_type": "markdown",
   "id": "6fb1e30e-3409-4b5f-8e4e-66725132f652",
   "metadata": {},
   "source": [
    "But before that we will transform date column into unique day "
   ]
  },
  {
   "cell_type": "code",
   "execution_count": 66,
   "id": "2a071adc-32e4-4520-af9f-fb5d16214a8c",
   "metadata": {},
   "outputs": [
    {
     "data": {
      "text/plain": [
       "21-02-2022    5\n",
       "10-01-2022    5\n",
       "12-01-2022    5\n",
       "17-01-2023    5\n",
       "31-01-2023    5\n",
       "             ..\n",
       "24-01-2023    1\n",
       "14-06-2022    1\n",
       "29-01-2023    1\n",
       "30-01-2023    1\n",
       "07-10-2023    1\n",
       "Name: date, Length: 313, dtype: int64"
      ]
     },
     "execution_count": 66,
     "metadata": {},
     "output_type": "execute_result"
    }
   ],
   "source": [
    "df['date'].value_counts()"
   ]
  },
  {
   "cell_type": "code",
   "execution_count": 67,
   "id": "f966c824-167c-4f4f-8ae7-aee9b6a98ce3",
   "metadata": {},
   "outputs": [],
   "source": [
    "day = []\n",
    "j=1\n",
    "for i in range(509):\n",
    "    if i<508:\n",
    "        day.append(j)\n",
    "        if df['date'][i] != df['date'][i+1] :\n",
    "            j=j+1\n",
    "        "
   ]
  },
  {
   "cell_type": "code",
   "execution_count": 68,
   "id": "dffb2f7f-20d9-4913-b3c8-6d990ed38836",
   "metadata": {},
   "outputs": [
    {
     "data": {
      "text/plain": [
       "508"
      ]
     },
     "execution_count": 68,
     "metadata": {},
     "output_type": "execute_result"
    }
   ],
   "source": [
    "len(day) #but we have 509 points and 313 unique days"
   ]
  },
  {
   "cell_type": "code",
   "execution_count": 69,
   "id": "472eed17-e74f-4fd9-a5c3-de26924ce824",
   "metadata": {},
   "outputs": [
    {
     "data": {
      "text/plain": [
       "[313, 313]"
      ]
     },
     "execution_count": 69,
     "metadata": {},
     "output_type": "execute_result"
    }
   ],
   "source": [
    "day[-3:-1]"
   ]
  },
  {
   "cell_type": "markdown",
   "id": "630f815c-7c8a-46ee-9ca5-aecda065ec06",
   "metadata": {},
   "source": [
    "But Without adding last value we are already getting 313 "
   ]
  },
  {
   "cell_type": "markdown",
   "id": "a6ed2e5f-56a0-4a9f-bab1-e24df10d4f88",
   "metadata": {},
   "source": [
    "There was some error in the order of date hence a same value was being assigned \n",
    "twice hence without adding last day. The below DF Shows this issue"
   ]
  },
  {
   "cell_type": "code",
   "execution_count": 70,
   "id": "b04703be-47a3-4084-b5c6-d91f214f5f34",
   "metadata": {},
   "outputs": [
    {
     "data": {
      "text/html": [
       "<div>\n",
       "<style scoped>\n",
       "    .dataframe tbody tr th:only-of-type {\n",
       "        vertical-align: middle;\n",
       "    }\n",
       "\n",
       "    .dataframe tbody tr th {\n",
       "        vertical-align: top;\n",
       "    }\n",
       "\n",
       "    .dataframe thead th {\n",
       "        text-align: right;\n",
       "    }\n",
       "</style>\n",
       "<table border=\"1\" class=\"dataframe\">\n",
       "  <thead>\n",
       "    <tr style=\"text-align: right;\">\n",
       "      <th></th>\n",
       "      <th>date</th>\n",
       "      <th>DrCr</th>\n",
       "      <th>amount</th>\n",
       "      <th>balance</th>\n",
       "      <th>mode</th>\n",
       "      <th>name</th>\n",
       "      <th>Day</th>\n",
       "      <th>Month</th>\n",
       "      <th>Year</th>\n",
       "    </tr>\n",
       "  </thead>\n",
       "  <tbody>\n",
       "    <tr>\n",
       "      <th>55</th>\n",
       "      <td>16-03-2022</td>\n",
       "      <td>Db</td>\n",
       "      <td>1500.0</td>\n",
       "      <td>467402.96</td>\n",
       "      <td>UPI</td>\n",
       "      <td>ABUTALAH</td>\n",
       "      <td>16</td>\n",
       "      <td>03</td>\n",
       "      <td>2022</td>\n",
       "    </tr>\n",
       "    <tr>\n",
       "      <th>56</th>\n",
       "      <td>17-03-2022</td>\n",
       "      <td>Cr</td>\n",
       "      <td>2400.0</td>\n",
       "      <td>469802.96</td>\n",
       "      <td>NEFT</td>\n",
       "      <td>NaN</td>\n",
       "      <td>17</td>\n",
       "      <td>03</td>\n",
       "      <td>2022</td>\n",
       "    </tr>\n",
       "    <tr>\n",
       "      <th>57</th>\n",
       "      <td>20-03-2022</td>\n",
       "      <td>Db</td>\n",
       "      <td>18.0</td>\n",
       "      <td>469784.96</td>\n",
       "      <td>SMS CHARGES</td>\n",
       "      <td>NaN</td>\n",
       "      <td>20</td>\n",
       "      <td>03</td>\n",
       "      <td>2022</td>\n",
       "    </tr>\n",
       "    <tr>\n",
       "      <th>58</th>\n",
       "      <td>22-03-2022</td>\n",
       "      <td>Db</td>\n",
       "      <td>500.0</td>\n",
       "      <td>469284.96</td>\n",
       "      <td>UPI</td>\n",
       "      <td>SANGALLI</td>\n",
       "      <td>22</td>\n",
       "      <td>03</td>\n",
       "      <td>2022</td>\n",
       "    </tr>\n",
       "    <tr>\n",
       "      <th>59</th>\n",
       "      <td>20-03-2022</td>\n",
       "      <td>Db</td>\n",
       "      <td>1.0</td>\n",
       "      <td>469283.96</td>\n",
       "      <td>UPI</td>\n",
       "      <td>KIRNAKUMA</td>\n",
       "      <td>20</td>\n",
       "      <td>03</td>\n",
       "      <td>2022</td>\n",
       "    </tr>\n",
       "    <tr>\n",
       "      <th>60</th>\n",
       "      <td>23-03-2022</td>\n",
       "      <td>Db</td>\n",
       "      <td>200000.0</td>\n",
       "      <td>269283.96</td>\n",
       "      <td>CHEQUE</td>\n",
       "      <td>NaN</td>\n",
       "      <td>23</td>\n",
       "      <td>03</td>\n",
       "      <td>2022</td>\n",
       "    </tr>\n",
       "    <tr>\n",
       "      <th>61</th>\n",
       "      <td>25-03-2022</td>\n",
       "      <td>Db</td>\n",
       "      <td>24000.0</td>\n",
       "      <td>245283.96</td>\n",
       "      <td>UPI</td>\n",
       "      <td>ABUTALAH</td>\n",
       "      <td>25</td>\n",
       "      <td>03</td>\n",
       "      <td>2022</td>\n",
       "    </tr>\n",
       "    <tr>\n",
       "      <th>62</th>\n",
       "      <td>26-03-2022</td>\n",
       "      <td>Db</td>\n",
       "      <td>1000.0</td>\n",
       "      <td>244283.96</td>\n",
       "      <td>UPI</td>\n",
       "      <td>ABUTALAH</td>\n",
       "      <td>26</td>\n",
       "      <td>03</td>\n",
       "      <td>2022</td>\n",
       "    </tr>\n",
       "  </tbody>\n",
       "</table>\n",
       "</div>"
      ],
      "text/plain": [
       "          date DrCr    amount    balance         mode       name Day Month  \\\n",
       "55  16-03-2022   Db    1500.0  467402.96          UPI   ABUTALAH  16    03   \n",
       "56  17-03-2022   Cr    2400.0  469802.96         NEFT        NaN  17    03   \n",
       "57  20-03-2022   Db      18.0  469784.96  SMS CHARGES        NaN  20    03   \n",
       "58  22-03-2022   Db     500.0  469284.96          UPI   SANGALLI  22    03   \n",
       "59  20-03-2022   Db       1.0  469283.96          UPI  KIRNAKUMA  20    03   \n",
       "60  23-03-2022   Db  200000.0  269283.96       CHEQUE        NaN  23    03   \n",
       "61  25-03-2022   Db   24000.0  245283.96          UPI   ABUTALAH  25    03   \n",
       "62  26-03-2022   Db    1000.0  244283.96          UPI   ABUTALAH  26    03   \n",
       "\n",
       "    Year  \n",
       "55  2022  \n",
       "56  2022  \n",
       "57  2022  \n",
       "58  2022  \n",
       "59  2022  \n",
       "60  2022  \n",
       "61  2022  \n",
       "62  2022  "
      ]
     },
     "execution_count": 70,
     "metadata": {},
     "output_type": "execute_result"
    }
   ],
   "source": [
    "df[55:63]"
   ]
  },
  {
   "cell_type": "markdown",
   "id": "3d5df39f-9740-4406-8fd5-067225f87a95",
   "metadata": {},
   "source": [
    "**Conclusion:** With a close inspection on above data we can infer that date 22 is wrong \n",
    "because balance shows order in data "
   ]
  },
  {
   "cell_type": "markdown",
   "id": "0d442da6-2db0-4d7d-8e45-192c53c11821",
   "metadata": {},
   "source": [
    "By referring the actual pdf. We can see 22 is 20 and 20 is 22 (58 and 59 th index)"
   ]
  },
  {
   "cell_type": "code",
   "execution_count": 71,
   "id": "71184401-71c5-4d64-be41-0162a3f976e8",
   "metadata": {},
   "outputs": [
    {
     "name": "stderr",
     "output_type": "stream",
     "text": [
      "C:\\Users\\Lenovo\\AppData\\Local\\Temp\\ipykernel_27124\\2617800124.py:1: SettingWithCopyWarning: \n",
      "A value is trying to be set on a copy of a slice from a DataFrame\n",
      "\n",
      "See the caveats in the documentation: https://pandas.pydata.org/pandas-docs/stable/user_guide/indexing.html#returning-a-view-versus-a-copy\n",
      "  df['date'].iloc[58] = '20-03-2022'\n",
      "C:\\Users\\Lenovo\\AppData\\Local\\Temp\\ipykernel_27124\\2617800124.py:2: SettingWithCopyWarning: \n",
      "A value is trying to be set on a copy of a slice from a DataFrame\n",
      "\n",
      "See the caveats in the documentation: https://pandas.pydata.org/pandas-docs/stable/user_guide/indexing.html#returning-a-view-versus-a-copy\n",
      "  df['date'].iloc[59] = '22-03-2022'\n"
     ]
    }
   ],
   "source": [
    "df['date'].iloc[58] = '20-03-2022'\n",
    "df['date'].iloc[59] = '22-03-2022'"
   ]
  },
  {
   "cell_type": "markdown",
   "id": "b3a5aac5-e30d-4aa9-a6c0-0abd27460e1f",
   "metadata": {},
   "source": [
    "It gave us warning but no problem because the actual task is done"
   ]
  },
  {
   "cell_type": "code",
   "execution_count": 72,
   "id": "f00fe2b5-e5b2-4944-959d-13fdd140d6f7",
   "metadata": {},
   "outputs": [],
   "source": [
    "# now again we run this\n",
    "day = []\n",
    "j=1\n",
    "for i in range(509):\n",
    "    if i<508:\n",
    "        day.append(j)\n",
    "        if df['date'][i] != df['date'][i+1] :\n",
    "            j=j+1\n",
    "        "
   ]
  },
  {
   "cell_type": "code",
   "execution_count": 73,
   "id": "55bde6f0-5e2e-4741-9eab-8a1f8a0e5a2f",
   "metadata": {},
   "outputs": [
    {
     "data": {
      "text/plain": [
       "508"
      ]
     },
     "execution_count": 73,
     "metadata": {},
     "output_type": "execute_result"
    }
   ],
   "source": [
    "len(day)"
   ]
  },
  {
   "cell_type": "code",
   "execution_count": 74,
   "id": "4d75b86f-7a1b-401d-868b-66c14f61bdf2",
   "metadata": {},
   "outputs": [
    {
     "data": {
      "text/plain": [
       "[312, 312]"
      ]
     },
     "execution_count": 74,
     "metadata": {},
     "output_type": "execute_result"
    }
   ],
   "source": [
    "day[-3:-1]"
   ]
  },
  {
   "cell_type": "code",
   "execution_count": 75,
   "id": "80fcf3e1-d697-4d96-8c42-0da1c3779b86",
   "metadata": {},
   "outputs": [],
   "source": [
    "day.append(313)"
   ]
  },
  {
   "cell_type": "code",
   "execution_count": 76,
   "id": "9c63f800-6cb8-47a3-b936-057bb7b78c56",
   "metadata": {},
   "outputs": [],
   "source": [
    "df['Tday'] = day"
   ]
  },
  {
   "cell_type": "code",
   "execution_count": 77,
   "id": "9f760461-3506-4155-83ac-55f959d24ba8",
   "metadata": {},
   "outputs": [
    {
     "data": {
      "text/plain": [
       "313"
      ]
     },
     "execution_count": 77,
     "metadata": {},
     "output_type": "execute_result"
    }
   ],
   "source": [
    "pd.Series(day).nunique()"
   ]
  },
  {
   "cell_type": "code",
   "execution_count": 78,
   "id": "1fa8dd4b-9684-4497-accd-9b769aaa4140",
   "metadata": {},
   "outputs": [
    {
     "data": {
      "text/plain": [
       "313"
      ]
     },
     "execution_count": 78,
     "metadata": {},
     "output_type": "execute_result"
    }
   ],
   "source": [
    "df['date'].nunique()"
   ]
  },
  {
   "cell_type": "code",
   "execution_count": 79,
   "id": "82010fa2-0445-44e6-9fc4-44da9674b7fd",
   "metadata": {},
   "outputs": [
    {
     "data": {
      "text/plain": [
       "509"
      ]
     },
     "execution_count": 79,
     "metadata": {},
     "output_type": "execute_result"
    }
   ],
   "source": [
    "len(day)"
   ]
  },
  {
   "cell_type": "code",
   "execution_count": 80,
   "id": "1922c6c5-b908-40be-bc37-bcc9c7104c41",
   "metadata": {},
   "outputs": [
    {
     "data": {
      "text/plain": [
       "313"
      ]
     },
     "execution_count": 80,
     "metadata": {},
     "output_type": "execute_result"
    }
   ],
   "source": [
    "day[-1]"
   ]
  },
  {
   "cell_type": "markdown",
   "id": "59def432-1a6d-480f-b218-182291467b37",
   "metadata": {},
   "source": [
    "Now Let us begin with questions"
   ]
  },
  {
   "cell_type": "markdown",
   "id": "fbe02a2a-d95d-49f1-b8fe-80e8f26a3eed",
   "metadata": {},
   "source": [
    "a. Which day lowest balance recorded "
   ]
  },
  {
   "cell_type": "code",
   "execution_count": 81,
   "id": "d9f88d01-3f6c-4cd5-8dcd-051c654389ec",
   "metadata": {},
   "outputs": [
    {
     "data": {
      "text/html": [
       "<div>\n",
       "<style scoped>\n",
       "    .dataframe tbody tr th:only-of-type {\n",
       "        vertical-align: middle;\n",
       "    }\n",
       "\n",
       "    .dataframe tbody tr th {\n",
       "        vertical-align: top;\n",
       "    }\n",
       "\n",
       "    .dataframe thead th {\n",
       "        text-align: right;\n",
       "    }\n",
       "</style>\n",
       "<table border=\"1\" class=\"dataframe\">\n",
       "  <thead>\n",
       "    <tr style=\"text-align: right;\">\n",
       "      <th></th>\n",
       "      <th>DrCr</th>\n",
       "      <th>amount</th>\n",
       "      <th>balance</th>\n",
       "      <th>mode</th>\n",
       "      <th>name</th>\n",
       "      <th>Day</th>\n",
       "      <th>Month</th>\n",
       "      <th>Year</th>\n",
       "    </tr>\n",
       "    <tr>\n",
       "      <th>date</th>\n",
       "      <th></th>\n",
       "      <th></th>\n",
       "      <th></th>\n",
       "      <th></th>\n",
       "      <th></th>\n",
       "      <th></th>\n",
       "      <th></th>\n",
       "      <th></th>\n",
       "    </tr>\n",
       "  </thead>\n",
       "  <tbody>\n",
       "    <tr>\n",
       "      <th>28-02-2023</th>\n",
       "      <td>Db</td>\n",
       "      <td>33571.0</td>\n",
       "      <td>0.13</td>\n",
       "      <td>UNKNOWN</td>\n",
       "      <td>NaN</td>\n",
       "      <td>28</td>\n",
       "      <td>02</td>\n",
       "      <td>2023</td>\n",
       "    </tr>\n",
       "  </tbody>\n",
       "</table>\n",
       "</div>"
      ],
      "text/plain": [
       "           DrCr   amount  balance     mode name Day Month  Year\n",
       "date                                                           \n",
       "28-02-2023   Db  33571.0     0.13  UNKNOWN  NaN  28    02  2023"
      ]
     },
     "execution_count": 81,
     "metadata": {},
     "output_type": "execute_result"
    }
   ],
   "source": [
    "df2[df2['balance'] == df2['balance'].min()]"
   ]
  },
  {
   "cell_type": "markdown",
   "id": "a0871052-f2c1-456d-80b5-e9087c3197cf",
   "metadata": {},
   "source": [
    "This transaction is really an unknown tansaction for which \n",
    "the deducted amount 33,571 Rs has to recovered from the bank"
   ]
  },
  {
   "cell_type": "markdown",
   "id": "4c3a3ad5-3a81-47e8-88e3-12e556f9f290",
   "metadata": {},
   "source": [
    "2. calculate the net amount a. debited b. credited"
   ]
  },
  {
   "cell_type": "code",
   "execution_count": 82,
   "id": "2f83ca8c-114a-4282-b46d-040b9139a85f",
   "metadata": {},
   "outputs": [
    {
     "data": {
      "text/plain": [
       "2417595.99"
      ]
     },
     "execution_count": 82,
     "metadata": {},
     "output_type": "execute_result"
    }
   ],
   "source": [
    "df.groupby('DrCr').get_group('Db')['amount'].sum()"
   ]
  },
  {
   "cell_type": "code",
   "execution_count": 83,
   "id": "8c161525-3d4e-4a74-899e-bf05c29c8cb1",
   "metadata": {},
   "outputs": [
    {
     "data": {
      "text/plain": [
       "2029258.59"
      ]
     },
     "execution_count": 83,
     "metadata": {},
     "output_type": "execute_result"
    }
   ],
   "source": [
    "df.groupby('DrCr').get_group('Cr')['amount'].sum()"
   ]
  },
  {
   "cell_type": "markdown",
   "id": "4d42c879-adb4-4637-8509-6f69696db4e6",
   "metadata": {},
   "source": [
    "3. Plot a graph of Tday and balance"
   ]
  },
  {
   "cell_type": "code",
   "execution_count": 86,
   "id": "89a72cda-e40c-4a26-a6eb-26d48eb75612",
   "metadata": {},
   "outputs": [
    {
     "data": {
      "text/plain": [
       "[<matplotlib.lines.Line2D at 0x19e46f00e50>]"
      ]
     },
     "execution_count": 86,
     "metadata": {},
     "output_type": "execute_result"
    },
    {
     "data": {
      "image/png": "[encoded data removed]",
      "text/plain": [
       "<Figure size 640x480 with 1 Axes>"
      ]
     },
     "metadata": {},
     "output_type": "display_data"
    }
   ],
   "source": [
    "plt.plot(df['Tday'], df['balance'])"
   ]
  },
  {
   "cell_type": "code",
   "execution_count": 130,
   "id": "148d3a34-a877-4488-889e-e8eb01b20357",
   "metadata": {},
   "outputs": [
    {
     "data": {
      "text/html": [
       "<div>\n",
       "<style scoped>\n",
       "    .dataframe tbody tr th:only-of-type {\n",
       "        vertical-align: middle;\n",
       "    }\n",
       "\n",
       "    .dataframe tbody tr th {\n",
       "        vertical-align: top;\n",
       "    }\n",
       "\n",
       "    .dataframe thead th {\n",
       "        text-align: right;\n",
       "    }\n",
       "</style>\n",
       "<table border=\"1\" class=\"dataframe\">\n",
       "  <thead>\n",
       "    <tr style=\"text-align: right;\">\n",
       "      <th></th>\n",
       "      <th>date</th>\n",
       "      <th>DrCr</th>\n",
       "      <th>amount</th>\n",
       "      <th>balance</th>\n",
       "      <th>mode</th>\n",
       "      <th>name</th>\n",
       "      <th>Day</th>\n",
       "      <th>Month</th>\n",
       "      <th>Year</th>\n",
       "      <th>Tday</th>\n",
       "    </tr>\n",
       "  </thead>\n",
       "  <tbody>\n",
       "    <tr>\n",
       "      <th>56</th>\n",
       "      <td>17-03-2022</td>\n",
       "      <td>Cr</td>\n",
       "      <td>2400.0</td>\n",
       "      <td>469802.96</td>\n",
       "      <td>NEFT</td>\n",
       "      <td>NaN</td>\n",
       "      <td>17</td>\n",
       "      <td>03</td>\n",
       "      <td>2022</td>\n",
       "      <td>31</td>\n",
       "    </tr>\n",
       "    <tr>\n",
       "      <th>57</th>\n",
       "      <td>20-03-2022</td>\n",
       "      <td>Db</td>\n",
       "      <td>18.0</td>\n",
       "      <td>469784.96</td>\n",
       "      <td>SMS CHARGES</td>\n",
       "      <td>NaN</td>\n",
       "      <td>20</td>\n",
       "      <td>03</td>\n",
       "      <td>2022</td>\n",
       "      <td>32</td>\n",
       "    </tr>\n",
       "    <tr>\n",
       "      <th>58</th>\n",
       "      <td>20-03-2022</td>\n",
       "      <td>Db</td>\n",
       "      <td>500.0</td>\n",
       "      <td>469284.96</td>\n",
       "      <td>UPI</td>\n",
       "      <td>SANGALLI</td>\n",
       "      <td>22</td>\n",
       "      <td>03</td>\n",
       "      <td>2022</td>\n",
       "      <td>32</td>\n",
       "    </tr>\n",
       "    <tr>\n",
       "      <th>59</th>\n",
       "      <td>22-03-2022</td>\n",
       "      <td>Db</td>\n",
       "      <td>1.0</td>\n",
       "      <td>469283.96</td>\n",
       "      <td>UPI</td>\n",
       "      <td>KIRNAKUMA</td>\n",
       "      <td>20</td>\n",
       "      <td>03</td>\n",
       "      <td>2022</td>\n",
       "      <td>33</td>\n",
       "    </tr>\n",
       "    <tr>\n",
       "      <th>60</th>\n",
       "      <td>23-03-2022</td>\n",
       "      <td>Db</td>\n",
       "      <td>200000.0</td>\n",
       "      <td>269283.96</td>\n",
       "      <td>CHEQUE</td>\n",
       "      <td>NaN</td>\n",
       "      <td>23</td>\n",
       "      <td>03</td>\n",
       "      <td>2022</td>\n",
       "      <td>34</td>\n",
       "    </tr>\n",
       "    <tr>\n",
       "      <th>61</th>\n",
       "      <td>25-03-2022</td>\n",
       "      <td>Db</td>\n",
       "      <td>24000.0</td>\n",
       "      <td>245283.96</td>\n",
       "      <td>UPI</td>\n",
       "      <td>ABUTALAH</td>\n",
       "      <td>25</td>\n",
       "      <td>03</td>\n",
       "      <td>2022</td>\n",
       "      <td>35</td>\n",
       "    </tr>\n",
       "    <tr>\n",
       "      <th>62</th>\n",
       "      <td>26-03-2022</td>\n",
       "      <td>Db</td>\n",
       "      <td>1000.0</td>\n",
       "      <td>244283.96</td>\n",
       "      <td>UPI</td>\n",
       "      <td>ABUTALAH</td>\n",
       "      <td>26</td>\n",
       "      <td>03</td>\n",
       "      <td>2022</td>\n",
       "      <td>36</td>\n",
       "    </tr>\n",
       "    <tr>\n",
       "      <th>63</th>\n",
       "      <td>28-03-2022</td>\n",
       "      <td>Db</td>\n",
       "      <td>10000.0</td>\n",
       "      <td>234283.96</td>\n",
       "      <td>ATM</td>\n",
       "      <td>NaN</td>\n",
       "      <td>28</td>\n",
       "      <td>03</td>\n",
       "      <td>2022</td>\n",
       "      <td>37</td>\n",
       "    </tr>\n",
       "    <tr>\n",
       "      <th>64</th>\n",
       "      <td>31-03-2022</td>\n",
       "      <td>Db</td>\n",
       "      <td>4000.0</td>\n",
       "      <td>230283.96</td>\n",
       "      <td>UPI</td>\n",
       "      <td>ABUTALAH</td>\n",
       "      <td>31</td>\n",
       "      <td>03</td>\n",
       "      <td>2022</td>\n",
       "      <td>38</td>\n",
       "    </tr>\n",
       "  </tbody>\n",
       "</table>\n",
       "</div>"
      ],
      "text/plain": [
       "          date DrCr    amount    balance         mode       name Day Month  \\\n",
       "56  17-03-2022   Cr    2400.0  469802.96         NEFT        NaN  17    03   \n",
       "57  20-03-2022   Db      18.0  469784.96  SMS CHARGES        NaN  20    03   \n",
       "58  20-03-2022   Db     500.0  469284.96          UPI   SANGALLI  22    03   \n",
       "59  22-03-2022   Db       1.0  469283.96          UPI  KIRNAKUMA  20    03   \n",
       "60  23-03-2022   Db  200000.0  269283.96       CHEQUE        NaN  23    03   \n",
       "61  25-03-2022   Db   24000.0  245283.96          UPI   ABUTALAH  25    03   \n",
       "62  26-03-2022   Db    1000.0  244283.96          UPI   ABUTALAH  26    03   \n",
       "63  28-03-2022   Db   10000.0  234283.96          ATM        NaN  28    03   \n",
       "64  31-03-2022   Db    4000.0  230283.96          UPI   ABUTALAH  31    03   \n",
       "\n",
       "    Year  Tday  \n",
       "56  2022    31  \n",
       "57  2022    32  \n",
       "58  2022    32  \n",
       "59  2022    33  \n",
       "60  2022    34  \n",
       "61  2022    35  \n",
       "62  2022    36  \n",
       "63  2022    37  \n",
       "64  2022    38  "
      ]
     },
     "execution_count": 130,
     "metadata": {},
     "output_type": "execute_result"
    }
   ],
   "source": [
    "df.iloc[56:65]"
   ]
  },
  {
   "cell_type": "code",
   "execution_count": 147,
   "id": "c7d61186-014e-40df-92f7-7f7512d024a1",
   "metadata": {},
   "outputs": [],
   "source": [
    "df = df.set_index('date')"
   ]
  },
  {
   "cell_type": "code",
   "execution_count": 143,
   "id": "6531bda2-b6e3-47c3-9bc2-6a700146f641",
   "metadata": {},
   "outputs": [],
   "source": [
    "df['date'] = pd.to_datetime(df['date'], format =\"%d-%m-%Y\")"
   ]
  },
  {
   "cell_type": "code",
   "execution_count": 148,
   "id": "7d8a3bc6-24d7-45fa-a595-ef4910caa030",
   "metadata": {},
   "outputs": [
    {
     "data": {
      "text/plain": [
       "DatetimeIndex(['2022-01-01', '2022-01-01', '2022-01-02', '2022-01-07',\n",
       "               '2022-01-10', '2022-01-10', '2022-01-10', '2022-01-10',\n",
       "               '2022-01-10', '2022-01-12',\n",
       "               ...\n",
       "               '2023-10-04', '2023-10-04', '2023-10-04', '2023-10-05',\n",
       "               '2023-10-05', '2023-10-06', '2023-10-06', '2023-10-06',\n",
       "               '2023-10-06', '2023-10-07'],\n",
       "              dtype='datetime64[ns]', name='date', length=509, freq=None)"
      ]
     },
     "execution_count": 148,
     "metadata": {},
     "output_type": "execute_result"
    }
   ],
   "source": [
    "df.index"
   ]
  },
  {
   "cell_type": "code",
   "execution_count": 149,
   "id": "1a750122-e21a-41a9-b849-e1f3dc3c9355",
   "metadata": {},
   "outputs": [],
   "source": [
    "df.to_csv('bankstatements.csv')"
   ]
  },
  {
   "cell_type": "code",
   "execution_count": null,
   "id": "c1bd6538-ec10-463b-a4de-e917e49854e5",
   "metadata": {},
   "outputs": [],
   "source": []
  }
 ],
 "metadata": {
  "kernelspec": {
   "display_name": "Python 3 (ipykernel)",
   "language": "python",
   "name": "python3"
  },
  "language_info": {
   "codemirror_mode": {
    "name": "ipython",
    "version": 3
   },
   "file_extension": ".py",
   "mimetype": "text/x-python",
   "name": "python",
   "nbconvert_exporter": "python",
   "pygments_lexer": "ipython3",
   "version": "3.8.17"
  }
 },
 "nbformat": 4,
 "nbformat_minor": 5
}
